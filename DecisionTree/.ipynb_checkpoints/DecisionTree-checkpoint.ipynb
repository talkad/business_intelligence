{
 "cells": [
  {
   "cell_type": "code",
   "execution_count": 91,
   "id": "cab20b5f",
   "metadata": {},
   "outputs": [],
   "source": [
    "import pandas as pd\n",
    "import math\n"
   ]
  },
  {
   "cell_type": "code",
   "execution_count": 92,
   "id": "9ed14d22",
   "metadata": {},
   "outputs": [
    {
     "data": {
      "text/html": [
       "<div>\n",
       "<style scoped>\n",
       "    .dataframe tbody tr th:only-of-type {\n",
       "        vertical-align: middle;\n",
       "    }\n",
       "\n",
       "    .dataframe tbody tr th {\n",
       "        vertical-align: top;\n",
       "    }\n",
       "\n",
       "    .dataframe thead th {\n",
       "        text-align: right;\n",
       "    }\n",
       "</style>\n",
       "<table border=\"1\" class=\"dataframe\">\n",
       "  <thead>\n",
       "    <tr style=\"text-align: right;\">\n",
       "      <th></th>\n",
       "      <th>Weather</th>\n",
       "      <th>Parents</th>\n",
       "      <th>Money</th>\n",
       "      <th>prediction</th>\n",
       "    </tr>\n",
       "  </thead>\n",
       "  <tbody>\n",
       "    <tr>\n",
       "      <th>0</th>\n",
       "      <td>0</td>\n",
       "      <td>1</td>\n",
       "      <td>1</td>\n",
       "      <td>0</td>\n",
       "    </tr>\n",
       "    <tr>\n",
       "      <th>1</th>\n",
       "      <td>0</td>\n",
       "      <td>0</td>\n",
       "      <td>1</td>\n",
       "      <td>1</td>\n",
       "    </tr>\n",
       "    <tr>\n",
       "      <th>2</th>\n",
       "      <td>1</td>\n",
       "      <td>1</td>\n",
       "      <td>1</td>\n",
       "      <td>0</td>\n",
       "    </tr>\n",
       "    <tr>\n",
       "      <th>3</th>\n",
       "      <td>2</td>\n",
       "      <td>1</td>\n",
       "      <td>0</td>\n",
       "      <td>0</td>\n",
       "    </tr>\n",
       "    <tr>\n",
       "      <th>4</th>\n",
       "      <td>2</td>\n",
       "      <td>0</td>\n",
       "      <td>1</td>\n",
       "      <td>2</td>\n",
       "    </tr>\n",
       "    <tr>\n",
       "      <th>5</th>\n",
       "      <td>2</td>\n",
       "      <td>1</td>\n",
       "      <td>0</td>\n",
       "      <td>0</td>\n",
       "    </tr>\n",
       "    <tr>\n",
       "      <th>6</th>\n",
       "      <td>1</td>\n",
       "      <td>0</td>\n",
       "      <td>0</td>\n",
       "      <td>0</td>\n",
       "    </tr>\n",
       "    <tr>\n",
       "      <th>7</th>\n",
       "      <td>1</td>\n",
       "      <td>0</td>\n",
       "      <td>1</td>\n",
       "      <td>3</td>\n",
       "    </tr>\n",
       "    <tr>\n",
       "      <th>8</th>\n",
       "      <td>1</td>\n",
       "      <td>1</td>\n",
       "      <td>1</td>\n",
       "      <td>0</td>\n",
       "    </tr>\n",
       "    <tr>\n",
       "      <th>9</th>\n",
       "      <td>0</td>\n",
       "      <td>0</td>\n",
       "      <td>1</td>\n",
       "      <td>1</td>\n",
       "    </tr>\n",
       "  </tbody>\n",
       "</table>\n",
       "</div>"
      ],
      "text/plain": [
       "   Weather  Parents  Money  prediction\n",
       "0        0        1      1           0\n",
       "1        0        0      1           1\n",
       "2        1        1      1           0\n",
       "3        2        1      0           0\n",
       "4        2        0      1           2\n",
       "5        2        1      0           0\n",
       "6        1        0      0           0\n",
       "7        1        0      1           3\n",
       "8        1        1      1           0\n",
       "9        0        0      1           1"
      ]
     },
     "execution_count": 92,
     "metadata": {},
     "output_type": "execute_result"
    }
   ],
   "source": [
    "# df = pd.read_csv('hw1_dataset2.csv')\n",
    "df = pd.read_csv('ps_example.csv')\n",
    "\n",
    "df"
   ]
  },
  {
   "cell_type": "code",
   "execution_count": 93,
   "id": "ec83d542",
   "metadata": {},
   "outputs": [
    {
     "data": {
      "text/plain": [
       "0    6\n",
       "1    2\n",
       "2    1\n",
       "3    1\n",
       "Name: prediction, dtype: int64"
      ]
     },
     "execution_count": 93,
     "metadata": {},
     "output_type": "execute_result"
    }
   ],
   "source": [
    "num_per_class = df['prediction'].value_counts()\n",
    "\n",
    "num_per_class"
   ]
  },
  {
   "cell_type": "code",
   "execution_count": 94,
   "id": "ef0a4394",
   "metadata": {},
   "outputs": [
    {
     "data": {
      "text/plain": [
       "array([0, 1, 2, 3], dtype=int64)"
      ]
     },
     "execution_count": 94,
     "metadata": {},
     "output_type": "execute_result"
    }
   ],
   "source": [
    "classes = df['prediction'].unique()\n",
    "\n",
    "classes"
   ]
  },
  {
   "cell_type": "markdown",
   "id": "4c4505e8",
   "metadata": {},
   "source": [
    "### Majority Rule Accuracy"
   ]
  },
  {
   "cell_type": "code",
   "execution_count": 95,
   "id": "0620f0e4",
   "metadata": {},
   "outputs": [
    {
     "data": {
      "text/plain": [
       "0    6\n",
       "1    2\n",
       "2    1\n",
       "3    1\n",
       "Name: prediction, dtype: int64"
      ]
     },
     "execution_count": 95,
     "metadata": {},
     "output_type": "execute_result"
    }
   ],
   "source": [
    "num_per_class"
   ]
  },
  {
   "cell_type": "code",
   "execution_count": 96,
   "id": "76a71288",
   "metadata": {},
   "outputs": [
    {
     "name": "stdout",
     "output_type": "stream",
     "text": [
      "Majority Rule Accuracy: 0.6\n"
     ]
    }
   ],
   "source": [
    "print(f'Majority Rule Accuracy: {num_per_class.max() / num_per_class.sum()}')"
   ]
  },
  {
   "cell_type": "markdown",
   "id": "929b0a52",
   "metadata": {},
   "source": [
    "### ID3\n",
    "\n",
    "Figure the attribute with maximal Info. Gain"
   ]
  },
  {
   "cell_type": "code",
   "execution_count": 97,
   "id": "bdff2139",
   "metadata": {},
   "outputs": [],
   "source": [
    "\n",
    "# Calculate the entropy\n",
    "def calc_entropy(target_distr=num_per_class):\n",
    "    result = 0\n",
    "    total_ammount = target_distr.sum()\n",
    "    \n",
    "    string = ''\n",
    "    \n",
    "    for count in target_distr:\n",
    "        p = count/total_ammount\n",
    "        result -= p*math.log2(p)\n",
    "        string += f' - {p}*log2({p})'\n",
    "        \n",
    "    print(f'entropy: {string} = {result}')\n",
    "        \n",
    "    return result"
   ]
  },
  {
   "cell_type": "code",
   "execution_count": 98,
   "id": "9868ae48",
   "metadata": {},
   "outputs": [
    {
     "name": "stdout",
     "output_type": "stream",
     "text": [
      "entropy:  - 0.6*log2(0.6) - 0.2*log2(0.2) - 0.1*log2(0.1) - 0.1*log2(0.1) = 1.5709505944546687\n"
     ]
    },
    {
     "data": {
      "text/plain": [
       "1.5709505944546687"
      ]
     },
     "execution_count": 98,
     "metadata": {},
     "output_type": "execute_result"
    }
   ],
   "source": [
    "entropy = calc_entropy()\n",
    "\n",
    "entropy"
   ]
  },
  {
   "cell_type": "code",
   "execution_count": 99,
   "id": "7a780247",
   "metadata": {},
   "outputs": [],
   "source": [
    "# Calculate information\n",
    "def calc_info(col_name, x, data_frame=df):\n",
    "    result = 0\n",
    "    string = ''\n",
    "        \n",
    "    for c in classes:\n",
    "        p_class_given_x = data_frame[(data_frame['prediction']==c) & (data_frame[col_name]==x)].shape[0] / data_frame[data_frame[col_name]==x].shape[0]\n",
    "        \n",
    "        if p_class_given_x != 0:\n",
    "            result -= p_class_given_x*math.log2(p_class_given_x)\n",
    "            string += f' - {p_class_given_x:.3f}*log2({p_class_given_x:.3f}))'\n",
    "    print(f'{string}')                    \n",
    "    print(f'Info D_{x} = {result}')\n",
    "    \n",
    "    return result"
   ]
  },
  {
   "cell_type": "code",
   "execution_count": 100,
   "id": "1a03c52f",
   "metadata": {},
   "outputs": [
    {
     "name": "stdout",
     "output_type": "stream",
     "text": [
      " - 0.333*log2(0.333)) - 0.667*log2(0.667))\n",
      "Info D_0 = 0.9182958340544896\n"
     ]
    },
    {
     "data": {
      "text/plain": [
       "0.9182958340544896"
      ]
     },
     "execution_count": 100,
     "metadata": {},
     "output_type": "execute_result"
    }
   ],
   "source": [
    "calc_info('Weather', 0)"
   ]
  },
  {
   "cell_type": "code",
   "execution_count": 101,
   "id": "5fb3951e",
   "metadata": {},
   "outputs": [],
   "source": [
    "# Calculate information gain\n",
    "def calc_gain(entropy, col_name, data_frame=df):\n",
    "    result = entropy\n",
    "    vals = data_frame[col_name].unique()\n",
    "    string = f'{entropy:.3f}'\n",
    "    \n",
    "    for val in vals:\n",
    "        info = calc_info(col_name, val, data_frame)\n",
    "        result -= data_frame[data_frame[col_name]==val].shape[0] / data_frame.shape[0] * info\n",
    "        string += f'- {data_frame[data_frame[col_name]==val].shape[0]} / {data_frame.shape[0]} * {info:.3f}'\n",
    "        \n",
    "    print(string)\n",
    "    print(f'Gain({col_name}) = {result}')\n",
    "    \n",
    "    return result\n",
    "        "
   ]
  },
  {
   "cell_type": "code",
   "execution_count": 102,
   "id": "ee94efae",
   "metadata": {},
   "outputs": [],
   "source": [
    "def find_opt_attr(data_frame=df):\n",
    "    entropy = calc_entropy(data_frame['prediction'].value_counts())\n",
    "    \n",
    "    features = data_frame.columns[:-1]\n",
    "    opt_col = ''\n",
    "    opt_gain = 0\n",
    "    \n",
    "    for col in features:\n",
    "        print('\\n')\n",
    "        gain = calc_gain(entropy, col, data_frame)\n",
    "        \n",
    "        if gain > opt_gain:\n",
    "            opt_gain = gain\n",
    "            opt_col = col\n",
    "            \n",
    "    print(f'best feature for split is {opt_col}\\n\\n')\n",
    "    \n",
    "    return opt_col\n",
    "    "
   ]
  },
  {
   "cell_type": "code",
   "execution_count": 103,
   "id": "d22b6182",
   "metadata": {},
   "outputs": [
    {
     "name": "stdout",
     "output_type": "stream",
     "text": [
      "entropy:  - 0.6*log2(0.6) - 0.2*log2(0.2) - 0.1*log2(0.1) - 0.1*log2(0.1) = 1.5709505944546687\n",
      "\n",
      "\n",
      " - 0.333*log2(0.333)) - 0.667*log2(0.667))\n",
      "Info D_0 = 0.9182958340544896\n",
      " - 0.750*log2(0.750)) - 0.250*log2(0.250))\n",
      "Info D_1 = 0.8112781244591328\n",
      " - 0.667*log2(0.667)) - 0.333*log2(0.333))\n",
      "Info D_2 = 0.9182958340544896\n",
      "1.571- 3 / 10 * 0.918- 4 / 10 * 0.811- 3 / 10 * 0.918\n",
      "Gain(Weather) = 0.695461844238322\n",
      "\n",
      "\n",
      " - 1.000*log2(1.000))\n",
      "Info D_1 = 0.0\n",
      " - 0.200*log2(0.200)) - 0.400*log2(0.400)) - 0.200*log2(0.200)) - 0.200*log2(0.200))\n",
      "Info D_0 = 1.9219280948873623\n",
      "1.571- 5 / 10 * 0.000- 5 / 10 * 1.922\n",
      "Gain(Parents) = 0.6099865470109875\n",
      "\n",
      "\n",
      " - 0.429*log2(0.429)) - 0.286*log2(0.286)) - 0.143*log2(0.143)) - 0.143*log2(0.143))\n",
      "Info D_1 = 1.8423709931771088\n",
      " - 1.000*log2(1.000))\n",
      "Info D_0 = 0.0\n",
      "1.571- 7 / 10 * 1.842- 3 / 10 * 0.000\n",
      "Gain(Money) = 0.2812908992306926\n",
      "best feature for split is Weather\n",
      "\n",
      "\n"
     ]
    },
    {
     "data": {
      "text/plain": [
       "'Weather'"
      ]
     },
     "execution_count": 103,
     "metadata": {},
     "output_type": "execute_result"
    }
   ],
   "source": [
    "find_opt_attr()"
   ]
  },
  {
   "cell_type": "markdown",
   "id": "1f8046f0",
   "metadata": {},
   "source": [
    "Define the tree class"
   ]
  },
  {
   "cell_type": "code",
   "execution_count": 104,
   "id": "d3c94701",
   "metadata": {},
   "outputs": [],
   "source": [
    "class Tree:\n",
    "    \n",
    "    def __init__(self, max_depth=2, data_frame=df):\n",
    "        self.max_depth = max_depth\n",
    "        self.children = []\n",
    "        self.feature = 'root'\n",
    "        self.pred = ''\n",
    "        self.data_frame = data_frame\n",
    "        \n",
    "    def __str__(self, level=0):\n",
    "        result = \"\\t\"*level+ f'feature {self.feature}: prediction -> {self.pred}' +\"\\n\"\n",
    "        for child in self.children:\n",
    "            result += child.__str__(level+1)\n",
    "            \n",
    "        return result\n",
    "        \n",
    "    def build_tree(self, depth=2):\n",
    "\n",
    "        if depth == 0:\n",
    "            return None\n",
    "        \n",
    "        if len(self.data_frame['prediction'].unique()) == 1:\n",
    "            self.pred = self.data_frame['prediction'][0]\n",
    "            return None\n",
    "        \n",
    "        # if there are no attribute left\n",
    "        if self.data_frame.shape[1] == 1:\n",
    "            self.pred = data['prediction'].value_counts().idxmax()\n",
    "            return None\n",
    "        \n",
    "        opt_feature = find_opt_attr(self.data_frame)\n",
    "        attributes = self.data_frame[opt_feature].unique()\n",
    "        \n",
    "        for attr in attributes:\n",
    "            tree = Tree()\n",
    "            tree.feature = opt_feature\n",
    "            tree.pred = attr\n",
    "            data = self.data_frame[self.data_frame[opt_feature]==attr].copy(deep=True)\n",
    "            data.drop(opt_feature, axis=1, inplace=True)\n",
    "            tree.data_frame = data\n",
    "            tree.build_tree(depth - 1)\n",
    "            \n",
    "            self.children.append(tree)\n",
    "    \n",
    "    def print_tree(self):\n",
    "        print(f'node feature {self.feature}, pred -> {self.pred}')\n",
    "        \n",
    "        for child in self.children:\n",
    "            child.print_tree()"
   ]
  },
  {
   "cell_type": "code",
   "execution_count": 105,
   "id": "8117d2d3",
   "metadata": {},
   "outputs": [
    {
     "name": "stdout",
     "output_type": "stream",
     "text": [
      "node feature root, pred -> \n"
     ]
    }
   ],
   "source": [
    "decision_tree = Tree(data_frame=df.copy(deep=True))\n",
    "\n",
    "decision_tree.print_tree()"
   ]
  },
  {
   "cell_type": "code",
   "execution_count": 106,
   "id": "ebf77183",
   "metadata": {},
   "outputs": [
    {
     "name": "stdout",
     "output_type": "stream",
     "text": [
      "entropy:  - 0.6*log2(0.6) - 0.2*log2(0.2) - 0.1*log2(0.1) - 0.1*log2(0.1) = 1.5709505944546687\n",
      "\n",
      "\n",
      " - 0.333*log2(0.333)) - 0.667*log2(0.667))\n",
      "Info D_0 = 0.9182958340544896\n",
      " - 0.750*log2(0.750)) - 0.250*log2(0.250))\n",
      "Info D_1 = 0.8112781244591328\n",
      " - 0.667*log2(0.667)) - 0.333*log2(0.333))\n",
      "Info D_2 = 0.9182958340544896\n",
      "1.571- 3 / 10 * 0.918- 4 / 10 * 0.811- 3 / 10 * 0.918\n",
      "Gain(Weather) = 0.695461844238322\n",
      "\n",
      "\n",
      " - 1.000*log2(1.000))\n",
      "Info D_1 = 0.0\n",
      " - 0.200*log2(0.200)) - 0.400*log2(0.400)) - 0.200*log2(0.200)) - 0.200*log2(0.200))\n",
      "Info D_0 = 1.9219280948873623\n",
      "1.571- 5 / 10 * 0.000- 5 / 10 * 1.922\n",
      "Gain(Parents) = 0.6099865470109875\n",
      "\n",
      "\n",
      " - 0.429*log2(0.429)) - 0.286*log2(0.286)) - 0.143*log2(0.143)) - 0.143*log2(0.143))\n",
      "Info D_1 = 1.8423709931771088\n",
      " - 1.000*log2(1.000))\n",
      "Info D_0 = 0.0\n",
      "1.571- 7 / 10 * 1.842- 3 / 10 * 0.000\n",
      "Gain(Money) = 0.2812908992306926\n",
      "best feature for split is Weather\n",
      "\n",
      "\n",
      "entropy:  - 0.6666666666666666*log2(0.6666666666666666) - 0.3333333333333333*log2(0.3333333333333333) = 0.9182958340544896\n",
      "\n",
      "\n",
      " - 1.000*log2(1.000))\n",
      "Info D_1 = 0.0\n",
      " - 1.000*log2(1.000))\n",
      "Info D_0 = 0.0\n",
      "0.918- 1 / 3 * 0.000- 2 / 3 * 0.000\n",
      "Gain(Parents) = 0.9182958340544896\n",
      "\n",
      "\n",
      " - 0.333*log2(0.333)) - 0.667*log2(0.667))\n",
      "Info D_1 = 0.9182958340544896\n",
      "0.918- 3 / 3 * 0.918\n",
      "Gain(Money) = 0.0\n",
      "best feature for split is Parents\n",
      "\n",
      "\n",
      "entropy:  - 0.75*log2(0.75) - 0.25*log2(0.25) = 0.8112781244591328\n",
      "\n",
      "\n",
      " - 1.000*log2(1.000))\n",
      "Info D_1 = 0.0\n",
      " - 0.500*log2(0.500)) - 0.500*log2(0.500))\n",
      "Info D_0 = 1.0\n",
      "0.811- 2 / 4 * 0.000- 2 / 4 * 1.000\n",
      "Gain(Parents) = 0.31127812445913283\n",
      "\n",
      "\n",
      " - 0.667*log2(0.667)) - 0.333*log2(0.333))\n",
      "Info D_1 = 0.9182958340544896\n",
      " - 1.000*log2(1.000))\n",
      "Info D_0 = 0.0\n",
      "0.811- 3 / 4 * 0.918- 1 / 4 * 0.000\n",
      "Gain(Money) = 0.12255624891826566\n",
      "best feature for split is Parents\n",
      "\n",
      "\n",
      "entropy:  - 0.6666666666666666*log2(0.6666666666666666) - 0.3333333333333333*log2(0.3333333333333333) = 0.9182958340544896\n",
      "\n",
      "\n",
      " - 1.000*log2(1.000))\n",
      "Info D_1 = 0.0\n",
      " - 1.000*log2(1.000))\n",
      "Info D_0 = 0.0\n",
      "0.918- 2 / 3 * 0.000- 1 / 3 * 0.000\n",
      "Gain(Parents) = 0.9182958340544896\n",
      "\n",
      "\n",
      " - 1.000*log2(1.000))\n",
      "Info D_0 = 0.0\n",
      " - 1.000*log2(1.000))\n",
      "Info D_1 = 0.0\n",
      "0.918- 2 / 3 * 0.000- 1 / 3 * 0.000\n",
      "Gain(Money) = 0.9182958340544896\n",
      "best feature for split is Parents\n",
      "\n",
      "\n"
     ]
    }
   ],
   "source": [
    "decision_tree.build_tree()"
   ]
  },
  {
   "cell_type": "code",
   "execution_count": 107,
   "id": "b3f1a729",
   "metadata": {},
   "outputs": [
    {
     "name": "stdout",
     "output_type": "stream",
     "text": [
      "feature root: prediction -> \n",
      "\tfeature Weather: prediction -> 0\n",
      "\t\tfeature Parents: prediction -> 1\n",
      "\t\tfeature Parents: prediction -> 0\n",
      "\tfeature Weather: prediction -> 1\n",
      "\t\tfeature Parents: prediction -> 1\n",
      "\t\tfeature Parents: prediction -> 0\n",
      "\tfeature Weather: prediction -> 2\n",
      "\t\tfeature Parents: prediction -> 1\n",
      "\t\tfeature Parents: prediction -> 0\n",
      "\n"
     ]
    }
   ],
   "source": [
    "print(decision_tree)"
   ]
  },
  {
   "cell_type": "code",
   "execution_count": 108,
   "id": "980e7ba1",
   "metadata": {},
   "outputs": [
    {
     "data": {
      "text/html": [
       "<div>\n",
       "<style scoped>\n",
       "    .dataframe tbody tr th:only-of-type {\n",
       "        vertical-align: middle;\n",
       "    }\n",
       "\n",
       "    .dataframe tbody tr th {\n",
       "        vertical-align: top;\n",
       "    }\n",
       "\n",
       "    .dataframe thead th {\n",
       "        text-align: right;\n",
       "    }\n",
       "</style>\n",
       "<table border=\"1\" class=\"dataframe\">\n",
       "  <thead>\n",
       "    <tr style=\"text-align: right;\">\n",
       "      <th></th>\n",
       "      <th>Weather</th>\n",
       "      <th>Parents</th>\n",
       "      <th>Money</th>\n",
       "      <th>prediction</th>\n",
       "    </tr>\n",
       "  </thead>\n",
       "  <tbody>\n",
       "    <tr>\n",
       "      <th>0</th>\n",
       "      <td>0</td>\n",
       "      <td>1</td>\n",
       "      <td>1</td>\n",
       "      <td>0</td>\n",
       "    </tr>\n",
       "    <tr>\n",
       "      <th>1</th>\n",
       "      <td>0</td>\n",
       "      <td>0</td>\n",
       "      <td>1</td>\n",
       "      <td>1</td>\n",
       "    </tr>\n",
       "    <tr>\n",
       "      <th>2</th>\n",
       "      <td>1</td>\n",
       "      <td>1</td>\n",
       "      <td>1</td>\n",
       "      <td>0</td>\n",
       "    </tr>\n",
       "    <tr>\n",
       "      <th>3</th>\n",
       "      <td>2</td>\n",
       "      <td>1</td>\n",
       "      <td>0</td>\n",
       "      <td>0</td>\n",
       "    </tr>\n",
       "    <tr>\n",
       "      <th>4</th>\n",
       "      <td>2</td>\n",
       "      <td>0</td>\n",
       "      <td>1</td>\n",
       "      <td>2</td>\n",
       "    </tr>\n",
       "    <tr>\n",
       "      <th>5</th>\n",
       "      <td>2</td>\n",
       "      <td>1</td>\n",
       "      <td>0</td>\n",
       "      <td>0</td>\n",
       "    </tr>\n",
       "    <tr>\n",
       "      <th>6</th>\n",
       "      <td>1</td>\n",
       "      <td>0</td>\n",
       "      <td>0</td>\n",
       "      <td>0</td>\n",
       "    </tr>\n",
       "    <tr>\n",
       "      <th>7</th>\n",
       "      <td>1</td>\n",
       "      <td>0</td>\n",
       "      <td>1</td>\n",
       "      <td>3</td>\n",
       "    </tr>\n",
       "    <tr>\n",
       "      <th>8</th>\n",
       "      <td>1</td>\n",
       "      <td>1</td>\n",
       "      <td>1</td>\n",
       "      <td>0</td>\n",
       "    </tr>\n",
       "    <tr>\n",
       "      <th>9</th>\n",
       "      <td>0</td>\n",
       "      <td>0</td>\n",
       "      <td>1</td>\n",
       "      <td>1</td>\n",
       "    </tr>\n",
       "  </tbody>\n",
       "</table>\n",
       "</div>"
      ],
      "text/plain": [
       "   Weather  Parents  Money  prediction\n",
       "0        0        1      1           0\n",
       "1        0        0      1           1\n",
       "2        1        1      1           0\n",
       "3        2        1      0           0\n",
       "4        2        0      1           2\n",
       "5        2        1      0           0\n",
       "6        1        0      0           0\n",
       "7        1        0      1           3\n",
       "8        1        1      1           0\n",
       "9        0        0      1           1"
      ]
     },
     "execution_count": 108,
     "metadata": {},
     "output_type": "execute_result"
    }
   ],
   "source": [
    "df"
   ]
  },
  {
   "cell_type": "code",
   "execution_count": 109,
   "id": "706d4d1c",
   "metadata": {},
   "outputs": [
    {
     "name": "stdout",
     "output_type": "stream",
     "text": [
      "entropy:  - 0.6*log2(0.6) - 0.2*log2(0.2) - 0.1*log2(0.1) - 0.1*log2(0.1) = 1.5709505944546687\n",
      "\n",
      "\n",
      " - 0.333*log2(0.333)) - 0.667*log2(0.667))\n",
      "Info D_0 = 0.9182958340544896\n",
      " - 0.750*log2(0.750)) - 0.250*log2(0.250))\n",
      "Info D_1 = 0.8112781244591328\n",
      " - 0.667*log2(0.667)) - 0.333*log2(0.333))\n",
      "Info D_2 = 0.9182958340544896\n",
      "1.571- 3 / 10 * 0.918- 4 / 10 * 0.811- 3 / 10 * 0.918\n",
      "Gain(Weather) = 0.695461844238322\n",
      "\n",
      "\n",
      " - 1.000*log2(1.000))\n",
      "Info D_1 = 0.0\n",
      " - 0.200*log2(0.200)) - 0.400*log2(0.400)) - 0.200*log2(0.200)) - 0.200*log2(0.200))\n",
      "Info D_0 = 1.9219280948873623\n",
      "1.571- 5 / 10 * 0.000- 5 / 10 * 1.922\n",
      "Gain(Parents) = 0.6099865470109875\n",
      "\n",
      "\n",
      " - 0.429*log2(0.429)) - 0.286*log2(0.286)) - 0.143*log2(0.143)) - 0.143*log2(0.143))\n",
      "Info D_1 = 1.8423709931771088\n",
      " - 1.000*log2(1.000))\n",
      "Info D_0 = 0.0\n",
      "1.571- 7 / 10 * 1.842- 3 / 10 * 0.000\n",
      "Gain(Money) = 0.2812908992306926\n",
      "best feature for split is Weather\n",
      "\n",
      "\n"
     ]
    },
    {
     "data": {
      "text/plain": [
       "'Weather'"
      ]
     },
     "execution_count": 109,
     "metadata": {},
     "output_type": "execute_result"
    }
   ],
   "source": [
    "find_opt_attr(df)"
   ]
  },
  {
   "cell_type": "code",
   "execution_count": 110,
   "id": "e9ef9932",
   "metadata": {},
   "outputs": [
    {
     "name": "stdout",
     "output_type": "stream",
     "text": [
      "\n",
      " note of attr 0\n",
      "   Weather  Parents  Money  prediction\n",
      "0        0        1      1           0\n",
      "1        0        0      1           1\n",
      "9        0        0      1           1\n",
      "entropy:  - 0.6666666666666666*log2(0.6666666666666666) - 0.3333333333333333*log2(0.3333333333333333) = 0.9182958340544896\n",
      "\n",
      "\n",
      " - 1.000*log2(1.000))\n",
      "Info D_1 = 0.0\n",
      " - 1.000*log2(1.000))\n",
      "Info D_0 = 0.0\n",
      "0.918- 1 / 3 * 0.000- 2 / 3 * 0.000\n",
      "Gain(Parents) = 0.9182958340544896\n",
      "\n",
      "\n",
      " - 0.333*log2(0.333)) - 0.667*log2(0.667))\n",
      "Info D_1 = 0.9182958340544896\n",
      "0.918- 3 / 3 * 0.918\n",
      "Gain(Money) = 0.0\n",
      "best feature for split is Parents\n",
      "\n",
      "\n",
      "\n",
      " note of attr 1\n",
      "   Weather  Parents  Money  prediction\n",
      "2        1        1      1           0\n",
      "6        1        0      0           0\n",
      "7        1        0      1           3\n",
      "8        1        1      1           0\n",
      "entropy:  - 0.75*log2(0.75) - 0.25*log2(0.25) = 0.8112781244591328\n",
      "\n",
      "\n",
      " - 1.000*log2(1.000))\n",
      "Info D_1 = 0.0\n",
      " - 0.500*log2(0.500)) - 0.500*log2(0.500))\n",
      "Info D_0 = 1.0\n",
      "0.811- 2 / 4 * 0.000- 2 / 4 * 1.000\n",
      "Gain(Parents) = 0.31127812445913283\n",
      "\n",
      "\n",
      " - 0.667*log2(0.667)) - 0.333*log2(0.333))\n",
      "Info D_1 = 0.9182958340544896\n",
      " - 1.000*log2(1.000))\n",
      "Info D_0 = 0.0\n",
      "0.811- 3 / 4 * 0.918- 1 / 4 * 0.000\n",
      "Gain(Money) = 0.12255624891826566\n",
      "best feature for split is Parents\n",
      "\n",
      "\n",
      "\n",
      " note of attr 2\n",
      "   Weather  Parents  Money  prediction\n",
      "3        2        1      0           0\n",
      "4        2        0      1           2\n",
      "5        2        1      0           0\n",
      "entropy:  - 0.6666666666666666*log2(0.6666666666666666) - 0.3333333333333333*log2(0.3333333333333333) = 0.9182958340544896\n",
      "\n",
      "\n",
      " - 1.000*log2(1.000))\n",
      "Info D_1 = 0.0\n",
      " - 1.000*log2(1.000))\n",
      "Info D_0 = 0.0\n",
      "0.918- 2 / 3 * 0.000- 1 / 3 * 0.000\n",
      "Gain(Parents) = 0.9182958340544896\n",
      "\n",
      "\n",
      " - 1.000*log2(1.000))\n",
      "Info D_0 = 0.0\n",
      " - 1.000*log2(1.000))\n",
      "Info D_1 = 0.0\n",
      "0.918- 2 / 3 * 0.000- 1 / 3 * 0.000\n",
      "Gain(Money) = 0.9182958340544896\n",
      "best feature for split is Parents\n",
      "\n",
      "\n"
     ]
    }
   ],
   "source": [
    "attributes = df['Weather'].unique()\n",
    "\n",
    "for attr in attributes:\n",
    "    print(f'\\n note of attr {attr}')\n",
    "    data = df.copy(deep=True)\n",
    "    data = data[data['Weather']==attr]\n",
    "    print(data)\n",
    "    data = data.drop('Weather', axis=1)\n",
    "    find_opt_attr(data)\n",
    "    \n",
    "    "
   ]
  },
  {
   "cell_type": "code",
   "execution_count": 111,
   "id": "64f34e5e",
   "metadata": {},
   "outputs": [
    {
     "data": {
      "text/html": [
       "<div>\n",
       "<style scoped>\n",
       "    .dataframe tbody tr th:only-of-type {\n",
       "        vertical-align: middle;\n",
       "    }\n",
       "\n",
       "    .dataframe tbody tr th {\n",
       "        vertical-align: top;\n",
       "    }\n",
       "\n",
       "    .dataframe thead th {\n",
       "        text-align: right;\n",
       "    }\n",
       "</style>\n",
       "<table border=\"1\" class=\"dataframe\">\n",
       "  <thead>\n",
       "    <tr style=\"text-align: right;\">\n",
       "      <th></th>\n",
       "      <th>Weather</th>\n",
       "      <th>Parents</th>\n",
       "      <th>Money</th>\n",
       "      <th>prediction</th>\n",
       "    </tr>\n",
       "  </thead>\n",
       "  <tbody>\n",
       "    <tr>\n",
       "      <th>6</th>\n",
       "      <td>1</td>\n",
       "      <td>0</td>\n",
       "      <td>0</td>\n",
       "      <td>0</td>\n",
       "    </tr>\n",
       "    <tr>\n",
       "      <th>7</th>\n",
       "      <td>1</td>\n",
       "      <td>0</td>\n",
       "      <td>1</td>\n",
       "      <td>3</td>\n",
       "    </tr>\n",
       "  </tbody>\n",
       "</table>\n",
       "</div>"
      ],
      "text/plain": [
       "   Weather  Parents  Money  prediction\n",
       "6        1        0      0           0\n",
       "7        1        0      1           3"
      ]
     },
     "execution_count": 111,
     "metadata": {},
     "output_type": "execute_result"
    }
   ],
   "source": [
    "df[(df['Weather']==1) & (df['Parents']==0)]"
   ]
  },
  {
   "cell_type": "code",
   "execution_count": 112,
   "id": "28aa40ae",
   "metadata": {},
   "outputs": [
    {
     "name": "stdout",
     "output_type": "stream",
     "text": [
      "entropy:  - 0.5*log2(0.5) - 0.5*log2(0.5) = 1.0\n",
      "\n",
      "\n",
      " - 0.500*log2(0.500)) - 0.500*log2(0.500))\n",
      "Info D_1 = 1.0\n",
      "1.000- 2 / 2 * 1.000\n",
      "Gain(Weather) = 0.0\n",
      "\n",
      "\n",
      " - 0.500*log2(0.500)) - 0.500*log2(0.500))\n",
      "Info D_0 = 1.0\n",
      "1.000- 2 / 2 * 1.000\n",
      "Gain(Parents) = 0.0\n",
      "\n",
      "\n",
      " - 1.000*log2(1.000))\n",
      "Info D_0 = 0.0\n",
      " - 1.000*log2(1.000))\n",
      "Info D_1 = 0.0\n",
      "1.000- 1 / 2 * 0.000- 1 / 2 * 0.000\n",
      "Gain(Money) = 1.0\n",
      "best feature for split is Money\n",
      "\n",
      "\n"
     ]
    },
    {
     "data": {
      "text/plain": [
       "'Money'"
      ]
     },
     "execution_count": 112,
     "metadata": {},
     "output_type": "execute_result"
    }
   ],
   "source": [
    "find_opt_attr(df[(df['Weather']==1) & (df['Parents']==0)])"
   ]
  },
  {
   "cell_type": "markdown",
   "id": "785fc376",
   "metadata": {},
   "source": [
    "### HW1"
   ]
  },
  {
   "cell_type": "code",
   "execution_count": 113,
   "id": "bb43a724",
   "metadata": {},
   "outputs": [
    {
     "data": {
      "text/html": [
       "<div>\n",
       "<style scoped>\n",
       "    .dataframe tbody tr th:only-of-type {\n",
       "        vertical-align: middle;\n",
       "    }\n",
       "\n",
       "    .dataframe tbody tr th {\n",
       "        vertical-align: top;\n",
       "    }\n",
       "\n",
       "    .dataframe thead th {\n",
       "        text-align: right;\n",
       "    }\n",
       "</style>\n",
       "<table border=\"1\" class=\"dataframe\">\n",
       "  <thead>\n",
       "    <tr style=\"text-align: right;\">\n",
       "      <th></th>\n",
       "      <th>Gender</th>\n",
       "      <th>fbs</th>\n",
       "      <th>slope</th>\n",
       "      <th>prediction</th>\n",
       "    </tr>\n",
       "  </thead>\n",
       "  <tbody>\n",
       "    <tr>\n",
       "      <th>0</th>\n",
       "      <td>1</td>\n",
       "      <td>1</td>\n",
       "      <td>3</td>\n",
       "      <td>0</td>\n",
       "    </tr>\n",
       "    <tr>\n",
       "      <th>1</th>\n",
       "      <td>1</td>\n",
       "      <td>0</td>\n",
       "      <td>2</td>\n",
       "      <td>2</td>\n",
       "    </tr>\n",
       "    <tr>\n",
       "      <th>2</th>\n",
       "      <td>1</td>\n",
       "      <td>0</td>\n",
       "      <td>2</td>\n",
       "      <td>1</td>\n",
       "    </tr>\n",
       "    <tr>\n",
       "      <th>3</th>\n",
       "      <td>1</td>\n",
       "      <td>0</td>\n",
       "      <td>3</td>\n",
       "      <td>0</td>\n",
       "    </tr>\n",
       "    <tr>\n",
       "      <th>4</th>\n",
       "      <td>0</td>\n",
       "      <td>0</td>\n",
       "      <td>1</td>\n",
       "      <td>0</td>\n",
       "    </tr>\n",
       "    <tr>\n",
       "      <th>...</th>\n",
       "      <td>...</td>\n",
       "      <td>...</td>\n",
       "      <td>...</td>\n",
       "      <td>...</td>\n",
       "    </tr>\n",
       "    <tr>\n",
       "      <th>95</th>\n",
       "      <td>1</td>\n",
       "      <td>0</td>\n",
       "      <td>1</td>\n",
       "      <td>1</td>\n",
       "    </tr>\n",
       "    <tr>\n",
       "      <th>96</th>\n",
       "      <td>1</td>\n",
       "      <td>0</td>\n",
       "      <td>2</td>\n",
       "      <td>2</td>\n",
       "    </tr>\n",
       "    <tr>\n",
       "      <th>97</th>\n",
       "      <td>0</td>\n",
       "      <td>0</td>\n",
       "      <td>2</td>\n",
       "      <td>3</td>\n",
       "    </tr>\n",
       "    <tr>\n",
       "      <th>98</th>\n",
       "      <td>1</td>\n",
       "      <td>0</td>\n",
       "      <td>1</td>\n",
       "      <td>0</td>\n",
       "    </tr>\n",
       "    <tr>\n",
       "      <th>99</th>\n",
       "      <td>1</td>\n",
       "      <td>0</td>\n",
       "      <td>1</td>\n",
       "      <td>0</td>\n",
       "    </tr>\n",
       "  </tbody>\n",
       "</table>\n",
       "<p>100 rows × 4 columns</p>\n",
       "</div>"
      ],
      "text/plain": [
       "    Gender  fbs  slope  prediction\n",
       "0        1    1      3           0\n",
       "1        1    0      2           2\n",
       "2        1    0      2           1\n",
       "3        1    0      3           0\n",
       "4        0    0      1           0\n",
       "..     ...  ...    ...         ...\n",
       "95       1    0      1           1\n",
       "96       1    0      2           2\n",
       "97       0    0      2           3\n",
       "98       1    0      1           0\n",
       "99       1    0      1           0\n",
       "\n",
       "[100 rows x 4 columns]"
      ]
     },
     "execution_count": 113,
     "metadata": {},
     "output_type": "execute_result"
    }
   ],
   "source": [
    "df2 = pd.read_csv('hw1_dataset2.csv') \n",
    "df2"
   ]
  },
  {
   "cell_type": "code",
   "execution_count": 114,
   "id": "2fec35da",
   "metadata": {},
   "outputs": [
    {
     "name": "stdout",
     "output_type": "stream",
     "text": [
      "entropy:  - 0.57*log2(0.57) - 0.19*log2(0.19) - 0.1*log2(0.1) - 0.1*log2(0.1) - 0.04*log2(0.04) = 1.7676170351690683\n",
      "\n",
      "\n",
      " - 0.479*log2(0.479)) - 0.254*log2(0.254)) - 0.127*log2(0.127)) - 0.099*log2(0.099))\n",
      "Info D_1 = 1.717881803245932\n",
      " - 0.793*log2(0.793)) - 0.034*log2(0.034)) - 0.034*log2(0.034)) - 0.103*log2(0.103))\n",
      "Info D_0 = 0.9388501852447328\n",
      "1.768- 71 / 100 * 1.718- 29 / 100 * 0.939\n",
      "Gain(Gender) = 0.27565440114348405\n",
      "\n",
      "\n",
      " - 0.615*log2(0.615)) - 0.077*log2(0.077)) - 0.154*log2(0.154)) - 0.154*log2(0.154))\n",
      "Info D_1 = 1.5465935642949382\n",
      " - 0.563*log2(0.563)) - 0.207*log2(0.207)) - 0.092*log2(0.092)) - 0.092*log2(0.092))\n",
      "Info D_0 = 1.5699411237682486\n",
      "1.768- 13 / 100 * 1.547- 87 / 100 * 1.570\n",
      "Gain(fbs) = 0.20071109413235\n",
      "\n",
      "\n",
      " - 0.545*log2(0.545)) - 0.182*log2(0.182)) - 0.091*log2(0.091)) - 0.182*log2(0.182))\n",
      "Info D_3 = 1.6858157091530304\n",
      " - 0.308*log2(0.308)) - 0.256*log2(0.256)) - 0.179*log2(0.179)) - 0.154*log2(0.154))\n",
      "Info D_2 = 1.8868971088184876\n",
      " - 0.780*log2(0.780)) - 0.140*log2(0.140)) - 0.040*log2(0.040)) - 0.040*log2(0.040))\n",
      "Info D_1 = 1.0482127699741066\n",
      "1.768- 11 / 100 * 1.686- 39 / 100 * 1.887- 50 / 100 * 1.048\n",
      "Gain(slope) = 0.3221810497359714\n",
      "best feature for split is slope\n",
      "\n",
      "\n"
     ]
    },
    {
     "data": {
      "text/plain": [
       "'slope'"
      ]
     },
     "execution_count": 114,
     "metadata": {},
     "output_type": "execute_result"
    }
   ],
   "source": [
    "find_opt_attr(df2)"
   ]
  },
  {
   "cell_type": "code",
   "execution_count": 115,
   "id": "f904eca5",
   "metadata": {},
   "outputs": [
    {
     "data": {
      "text/html": [
       "<div>\n",
       "<style scoped>\n",
       "    .dataframe tbody tr th:only-of-type {\n",
       "        vertical-align: middle;\n",
       "    }\n",
       "\n",
       "    .dataframe tbody tr th {\n",
       "        vertical-align: top;\n",
       "    }\n",
       "\n",
       "    .dataframe thead th {\n",
       "        text-align: right;\n",
       "    }\n",
       "</style>\n",
       "<table border=\"1\" class=\"dataframe\">\n",
       "  <thead>\n",
       "    <tr style=\"text-align: right;\">\n",
       "      <th></th>\n",
       "      <th>counts</th>\n",
       "    </tr>\n",
       "    <tr>\n",
       "      <th>values</th>\n",
       "      <th></th>\n",
       "    </tr>\n",
       "  </thead>\n",
       "  <tbody>\n",
       "    <tr>\n",
       "      <th>0</th>\n",
       "      <td>57</td>\n",
       "    </tr>\n",
       "    <tr>\n",
       "      <th>1</th>\n",
       "      <td>19</td>\n",
       "    </tr>\n",
       "    <tr>\n",
       "      <th>2</th>\n",
       "      <td>10</td>\n",
       "    </tr>\n",
       "    <tr>\n",
       "      <th>3</th>\n",
       "      <td>10</td>\n",
       "    </tr>\n",
       "    <tr>\n",
       "      <th>4</th>\n",
       "      <td>4</td>\n",
       "    </tr>\n",
       "  </tbody>\n",
       "</table>\n",
       "</div>"
      ],
      "text/plain": [
       "        counts\n",
       "values        \n",
       "0           57\n",
       "1           19\n",
       "2           10\n",
       "3           10\n",
       "4            4"
      ]
     },
     "execution_count": 115,
     "metadata": {},
     "output_type": "execute_result"
    }
   ],
   "source": [
    "df2['prediction'].value_counts().rename_axis('values').to_frame('counts')"
   ]
  },
  {
   "cell_type": "code",
   "execution_count": 116,
   "id": "c22eb015",
   "metadata": {},
   "outputs": [],
   "source": [
    "child1 = df2.copy(deep=True)\n",
    "child1 = child1[child1['slope']==1]"
   ]
  },
  {
   "cell_type": "code",
   "execution_count": 117,
   "id": "f6af0ab2",
   "metadata": {},
   "outputs": [
    {
     "data": {
      "text/plain": [
       "3"
      ]
     },
     "execution_count": 117,
     "metadata": {},
     "output_type": "execute_result"
    }
   ],
   "source": [
    "child1.drop(['slope'], axis=1, inplace=True)\n",
    "child1.shape[1]"
   ]
  },
  {
   "cell_type": "code",
   "execution_count": 118,
   "id": "94ca4a79",
   "metadata": {},
   "outputs": [
    {
     "data": {
      "text/html": [
       "<div>\n",
       "<style scoped>\n",
       "    .dataframe tbody tr th:only-of-type {\n",
       "        vertical-align: middle;\n",
       "    }\n",
       "\n",
       "    .dataframe tbody tr th {\n",
       "        vertical-align: top;\n",
       "    }\n",
       "\n",
       "    .dataframe thead th {\n",
       "        text-align: right;\n",
       "    }\n",
       "</style>\n",
       "<table border=\"1\" class=\"dataframe\">\n",
       "  <thead>\n",
       "    <tr style=\"text-align: right;\">\n",
       "      <th></th>\n",
       "      <th>counts</th>\n",
       "    </tr>\n",
       "    <tr>\n",
       "      <th>values</th>\n",
       "      <th></th>\n",
       "    </tr>\n",
       "  </thead>\n",
       "  <tbody>\n",
       "    <tr>\n",
       "      <th>0</th>\n",
       "      <td>39</td>\n",
       "    </tr>\n",
       "    <tr>\n",
       "      <th>1</th>\n",
       "      <td>7</td>\n",
       "    </tr>\n",
       "    <tr>\n",
       "      <th>2</th>\n",
       "      <td>2</td>\n",
       "    </tr>\n",
       "    <tr>\n",
       "      <th>3</th>\n",
       "      <td>2</td>\n",
       "    </tr>\n",
       "  </tbody>\n",
       "</table>\n",
       "</div>"
      ],
      "text/plain": [
       "        counts\n",
       "values        \n",
       "0           39\n",
       "1            7\n",
       "2            2\n",
       "3            2"
      ]
     },
     "execution_count": 118,
     "metadata": {},
     "output_type": "execute_result"
    }
   ],
   "source": [
    "child1['prediction'].value_counts().rename_axis('values').to_frame('counts')"
   ]
  },
  {
   "cell_type": "code",
   "execution_count": 119,
   "id": "9391b6b6",
   "metadata": {},
   "outputs": [
    {
     "name": "stdout",
     "output_type": "stream",
     "text": [
      "entropy:  - 0.78*log2(0.78) - 0.14*log2(0.14) - 0.04*log2(0.04) - 0.04*log2(0.04) = 1.0482127699741066\n",
      "\n",
      "\n",
      " - 0.944*log2(0.944)) - 0.056*log2(0.056))\n",
      "Info D_0 = 0.3095434291503252\n",
      " - 0.688*log2(0.688)) - 0.188*log2(0.188)) - 0.062*log2(0.062)) - 0.062*log2(0.062))\n",
      "Info D_1 = 1.3244602933016414\n",
      "1.048- 18 / 50 * 0.310- 32 / 50 * 1.324\n",
      "Gain(Gender) = 0.08912254776693906\n",
      "\n",
      "\n",
      " - 0.773*log2(0.773)) - 0.159*log2(0.159)) - 0.023*log2(0.023)) - 0.045*log2(0.045))\n",
      "Info D_0 = 1.0361311400710524\n",
      " - 0.833*log2(0.833)) - 0.167*log2(0.167))\n",
      "Info D_1 = 0.6500224216483541\n",
      "1.048- 44 / 50 * 1.036- 6 / 50 * 0.650\n",
      "Gain(fbs) = 0.05841467611377796\n",
      "best feature for split is Gender\n",
      "\n",
      "\n"
     ]
    },
    {
     "data": {
      "text/plain": [
       "'Gender'"
      ]
     },
     "execution_count": 119,
     "metadata": {},
     "output_type": "execute_result"
    }
   ],
   "source": [
    "find_opt_attr(child1)"
   ]
  },
  {
   "cell_type": "code",
   "execution_count": 120,
   "id": "8586f091",
   "metadata": {},
   "outputs": [
    {
     "data": {
      "text/plain": [
       "39"
      ]
     },
     "execution_count": 120,
     "metadata": {},
     "output_type": "execute_result"
    }
   ],
   "source": [
    "child2 = df2.copy(deep=True)\n",
    "child2 = child2[child2['slope']==2]\n",
    "\n",
    "child2.drop(['slope'], axis=1, inplace=True)\n",
    "child2.shape[0]"
   ]
  },
  {
   "cell_type": "code",
   "execution_count": 121,
   "id": "3e2003a5",
   "metadata": {},
   "outputs": [
    {
     "data": {
      "text/html": [
       "<div>\n",
       "<style scoped>\n",
       "    .dataframe tbody tr th:only-of-type {\n",
       "        vertical-align: middle;\n",
       "    }\n",
       "\n",
       "    .dataframe tbody tr th {\n",
       "        vertical-align: top;\n",
       "    }\n",
       "\n",
       "    .dataframe thead th {\n",
       "        text-align: right;\n",
       "    }\n",
       "</style>\n",
       "<table border=\"1\" class=\"dataframe\">\n",
       "  <thead>\n",
       "    <tr style=\"text-align: right;\">\n",
       "      <th></th>\n",
       "      <th>counts</th>\n",
       "    </tr>\n",
       "    <tr>\n",
       "      <th>values</th>\n",
       "      <th></th>\n",
       "    </tr>\n",
       "  </thead>\n",
       "  <tbody>\n",
       "    <tr>\n",
       "      <th>0</th>\n",
       "      <td>12</td>\n",
       "    </tr>\n",
       "    <tr>\n",
       "      <th>1</th>\n",
       "      <td>10</td>\n",
       "    </tr>\n",
       "    <tr>\n",
       "      <th>2</th>\n",
       "      <td>7</td>\n",
       "    </tr>\n",
       "    <tr>\n",
       "      <th>3</th>\n",
       "      <td>6</td>\n",
       "    </tr>\n",
       "    <tr>\n",
       "      <th>4</th>\n",
       "      <td>4</td>\n",
       "    </tr>\n",
       "  </tbody>\n",
       "</table>\n",
       "</div>"
      ],
      "text/plain": [
       "        counts\n",
       "values        \n",
       "0           12\n",
       "1           10\n",
       "2            7\n",
       "3            6\n",
       "4            4"
      ]
     },
     "execution_count": 121,
     "metadata": {},
     "output_type": "execute_result"
    }
   ],
   "source": [
    "child2['prediction'].value_counts().rename_axis('values').to_frame('counts')"
   ]
  },
  {
   "cell_type": "code",
   "execution_count": 122,
   "id": "a3a52f05",
   "metadata": {},
   "outputs": [
    {
     "name": "stdout",
     "output_type": "stream",
     "text": [
      "entropy:  - 0.3076923076923077*log2(0.3076923076923077) - 0.2564102564102564*log2(0.2564102564102564) - 0.1794871794871795*log2(0.1794871794871795) - 0.15384615384615385*log2(0.15384615384615385) - 0.10256410256410256*log2(0.10256410256410256) = 2.223861438958205\n",
      "\n",
      "\n",
      " - 0.250*log2(0.250)) - 0.312*log2(0.312)) - 0.188*log2(0.188)) - 0.156*log2(0.156))\n",
      "Info D_1 = 1.8956657366363323\n",
      " - 0.571*log2(0.571)) - 0.143*log2(0.143)) - 0.143*log2(0.143))\n",
      "Info D_0 = 1.263447076049375\n",
      "2.224- 32 / 39 * 1.896- 7 / 39 * 1.263\n",
      "Gain(Gender) = 0.44167084652978833\n",
      "\n",
      "\n",
      " - 0.314*log2(0.314)) - 0.286*log2(0.286)) - 0.171*log2(0.171)) - 0.114*log2(0.114))\n",
      "Info D_0 = 1.8349991362023752\n",
      " - 0.250*log2(0.250)) - 0.250*log2(0.250)) - 0.500*log2(0.500))\n",
      "Info D_1 = 1.5\n",
      "2.224- 35 / 39 * 1.835- 4 / 39 * 1.500\n",
      "Gain(fbs) = 0.4232211885201761\n",
      "best feature for split is Gender\n",
      "\n",
      "\n"
     ]
    },
    {
     "data": {
      "text/plain": [
       "'Gender'"
      ]
     },
     "execution_count": 122,
     "metadata": {},
     "output_type": "execute_result"
    }
   ],
   "source": [
    "find_opt_attr(child2)"
   ]
  },
  {
   "cell_type": "code",
   "execution_count": 123,
   "id": "ad9c3af4",
   "metadata": {},
   "outputs": [
    {
     "data": {
      "text/plain": [
       "11"
      ]
     },
     "execution_count": 123,
     "metadata": {},
     "output_type": "execute_result"
    }
   ],
   "source": [
    "child3 = df2.copy(deep=True)\n",
    "child3 = child3[child3['slope']==3]\n",
    "\n",
    "child3.drop(['slope'], axis=1, inplace=True)\n",
    "child3.shape[0]"
   ]
  },
  {
   "cell_type": "code",
   "execution_count": 124,
   "id": "e30acfd8",
   "metadata": {},
   "outputs": [
    {
     "data": {
      "text/html": [
       "<div>\n",
       "<style scoped>\n",
       "    .dataframe tbody tr th:only-of-type {\n",
       "        vertical-align: middle;\n",
       "    }\n",
       "\n",
       "    .dataframe tbody tr th {\n",
       "        vertical-align: top;\n",
       "    }\n",
       "\n",
       "    .dataframe thead th {\n",
       "        text-align: right;\n",
       "    }\n",
       "</style>\n",
       "<table border=\"1\" class=\"dataframe\">\n",
       "  <thead>\n",
       "    <tr style=\"text-align: right;\">\n",
       "      <th></th>\n",
       "      <th>counts</th>\n",
       "    </tr>\n",
       "    <tr>\n",
       "      <th>values</th>\n",
       "      <th></th>\n",
       "    </tr>\n",
       "  </thead>\n",
       "  <tbody>\n",
       "    <tr>\n",
       "      <th>0</th>\n",
       "      <td>6</td>\n",
       "    </tr>\n",
       "    <tr>\n",
       "      <th>1</th>\n",
       "      <td>2</td>\n",
       "    </tr>\n",
       "    <tr>\n",
       "      <th>3</th>\n",
       "      <td>2</td>\n",
       "    </tr>\n",
       "    <tr>\n",
       "      <th>2</th>\n",
       "      <td>1</td>\n",
       "    </tr>\n",
       "  </tbody>\n",
       "</table>\n",
       "</div>"
      ],
      "text/plain": [
       "        counts\n",
       "values        \n",
       "0            6\n",
       "1            2\n",
       "3            2\n",
       "2            1"
      ]
     },
     "execution_count": 124,
     "metadata": {},
     "output_type": "execute_result"
    }
   ],
   "source": [
    "child3['prediction'].value_counts().rename_axis('values').to_frame('counts')"
   ]
  },
  {
   "cell_type": "code",
   "execution_count": 125,
   "id": "6a84e232",
   "metadata": {},
   "outputs": [
    {
     "name": "stdout",
     "output_type": "stream",
     "text": [
      "entropy:  - 0.5454545454545454*log2(0.5454545454545454) - 0.18181818181818182*log2(0.18181818181818182) - 0.18181818181818182*log2(0.18181818181818182) - 0.09090909090909091*log2(0.09090909090909091) = 1.6858157091530304\n",
      "\n",
      "\n",
      " - 0.571*log2(0.571)) - 0.286*log2(0.286)) - 0.143*log2(0.143))\n",
      "Info D_1 = 1.3787834934861753\n",
      " - 0.500*log2(0.500)) - 0.500*log2(0.500))\n",
      "Info D_0 = 1.0\n",
      "1.686- 7 / 11 * 1.379- 4 / 11 * 1.000\n",
      "Gain(Gender) = 0.4447716678436461\n",
      "\n",
      "\n",
      " - 0.667*log2(0.667)) - 0.333*log2(0.333))\n",
      "Info D_1 = 0.9182958340544896\n",
      " - 0.500*log2(0.500)) - 0.125*log2(0.125)) - 0.125*log2(0.125)) - 0.250*log2(0.250))\n",
      "Info D_0 = 1.75\n",
      "1.686- 3 / 11 * 0.918- 8 / 11 * 1.750\n",
      "Gain(fbs) = 0.16264411804726042\n",
      "best feature for split is Gender\n",
      "\n",
      "\n"
     ]
    },
    {
     "data": {
      "text/plain": [
       "'Gender'"
      ]
     },
     "execution_count": 125,
     "metadata": {},
     "output_type": "execute_result"
    }
   ],
   "source": [
    "find_opt_attr(child3)"
   ]
  },
  {
   "cell_type": "code",
   "execution_count": 126,
   "id": "97a0a9e9",
   "metadata": {},
   "outputs": [
    {
     "data": {
      "text/html": [
       "<div>\n",
       "<style scoped>\n",
       "    .dataframe tbody tr th:only-of-type {\n",
       "        vertical-align: middle;\n",
       "    }\n",
       "\n",
       "    .dataframe tbody tr th {\n",
       "        vertical-align: top;\n",
       "    }\n",
       "\n",
       "    .dataframe thead th {\n",
       "        text-align: right;\n",
       "    }\n",
       "</style>\n",
       "<table border=\"1\" class=\"dataframe\">\n",
       "  <thead>\n",
       "    <tr style=\"text-align: right;\">\n",
       "      <th></th>\n",
       "      <th>counts</th>\n",
       "    </tr>\n",
       "    <tr>\n",
       "      <th>values</th>\n",
       "      <th></th>\n",
       "    </tr>\n",
       "  </thead>\n",
       "  <tbody>\n",
       "    <tr>\n",
       "      <th>0</th>\n",
       "      <td>4</td>\n",
       "    </tr>\n",
       "    <tr>\n",
       "      <th>2</th>\n",
       "      <td>1</td>\n",
       "    </tr>\n",
       "    <tr>\n",
       "      <th>3</th>\n",
       "      <td>1</td>\n",
       "    </tr>\n",
       "    <tr>\n",
       "      <th>4</th>\n",
       "      <td>1</td>\n",
       "    </tr>\n",
       "  </tbody>\n",
       "</table>\n",
       "</div>"
      ],
      "text/plain": [
       "        counts\n",
       "values        \n",
       "0            4\n",
       "2            1\n",
       "3            1\n",
       "4            1"
      ]
     },
     "execution_count": 126,
     "metadata": {},
     "output_type": "execute_result"
    }
   ],
   "source": [
    "df2[(df2['slope']==2) & (df2['Gender']==0)]['prediction'].value_counts().rename_axis('values').to_frame('counts')"
   ]
  },
  {
   "cell_type": "markdown",
   "id": "a69e1741",
   "metadata": {},
   "source": [
    "### Model Accuracy"
   ]
  },
  {
   "cell_type": "code",
   "execution_count": 127,
   "id": "c356b727",
   "metadata": {},
   "outputs": [],
   "source": [
    "def predict(x):\n",
    "    if x['slope'] == 1:\n",
    "        if x['Gender'] == 0:\n",
    "            return 0\n",
    "        return 0\n",
    "    \n",
    "    if x['slope'] == 2:\n",
    "        if x['Gender'] == 0:\n",
    "            return 0\n",
    "        return 1\n",
    "    \n",
    "    if x['slope'] == 3:\n",
    "        if x['Gender'] == 0:\n",
    "            return 0\n",
    "        return 0"
   ]
  },
  {
   "cell_type": "code",
   "execution_count": 131,
   "id": "5dee01ab",
   "metadata": {},
   "outputs": [
    {
     "name": "stdout",
     "output_type": "stream",
     "text": [
      "training accuracy: 0.59\n"
     ]
    }
   ],
   "source": [
    "df2 = df2.reset_index()\n",
    "acc = 0\n",
    "\n",
    "for index, row in df2.iterrows():\n",
    "    if predict(row) == row['prediction']:\n",
    "        acc += 1\n",
    "        \n",
    "print(f'training accuracy: {acc / df2.shape[0]}')"
   ]
  },
  {
   "cell_type": "code",
   "execution_count": 136,
   "id": "b2132dba",
   "metadata": {},
   "outputs": [
    {
     "data": {
      "text/html": [
       "<div>\n",
       "<style scoped>\n",
       "    .dataframe tbody tr th:only-of-type {\n",
       "        vertical-align: middle;\n",
       "    }\n",
       "\n",
       "    .dataframe tbody tr th {\n",
       "        vertical-align: top;\n",
       "    }\n",
       "\n",
       "    .dataframe thead th {\n",
       "        text-align: right;\n",
       "    }\n",
       "</style>\n",
       "<table border=\"1\" class=\"dataframe\">\n",
       "  <thead>\n",
       "    <tr style=\"text-align: right;\">\n",
       "      <th></th>\n",
       "      <th>Gender</th>\n",
       "      <th>fbs</th>\n",
       "      <th>slope</th>\n",
       "      <th>prediction</th>\n",
       "    </tr>\n",
       "  </thead>\n",
       "  <tbody>\n",
       "    <tr>\n",
       "      <th>0</th>\n",
       "      <td>1</td>\n",
       "      <td>1</td>\n",
       "      <td>3</td>\n",
       "      <td>0</td>\n",
       "    </tr>\n",
       "    <tr>\n",
       "      <th>1</th>\n",
       "      <td>1</td>\n",
       "      <td>0</td>\n",
       "      <td>2</td>\n",
       "      <td>2</td>\n",
       "    </tr>\n",
       "    <tr>\n",
       "      <th>2</th>\n",
       "      <td>1</td>\n",
       "      <td>0</td>\n",
       "      <td>2</td>\n",
       "      <td>1</td>\n",
       "    </tr>\n",
       "    <tr>\n",
       "      <th>3</th>\n",
       "      <td>1</td>\n",
       "      <td>0</td>\n",
       "      <td>3</td>\n",
       "      <td>0</td>\n",
       "    </tr>\n",
       "    <tr>\n",
       "      <th>4</th>\n",
       "      <td>0</td>\n",
       "      <td>0</td>\n",
       "      <td>1</td>\n",
       "      <td>0</td>\n",
       "    </tr>\n",
       "    <tr>\n",
       "      <th>...</th>\n",
       "      <td>...</td>\n",
       "      <td>...</td>\n",
       "      <td>...</td>\n",
       "      <td>...</td>\n",
       "    </tr>\n",
       "    <tr>\n",
       "      <th>95</th>\n",
       "      <td>1</td>\n",
       "      <td>0</td>\n",
       "      <td>1</td>\n",
       "      <td>1</td>\n",
       "    </tr>\n",
       "    <tr>\n",
       "      <th>96</th>\n",
       "      <td>1</td>\n",
       "      <td>0</td>\n",
       "      <td>2</td>\n",
       "      <td>2</td>\n",
       "    </tr>\n",
       "    <tr>\n",
       "      <th>97</th>\n",
       "      <td>0</td>\n",
       "      <td>0</td>\n",
       "      <td>2</td>\n",
       "      <td>3</td>\n",
       "    </tr>\n",
       "    <tr>\n",
       "      <th>98</th>\n",
       "      <td>1</td>\n",
       "      <td>0</td>\n",
       "      <td>1</td>\n",
       "      <td>0</td>\n",
       "    </tr>\n",
       "    <tr>\n",
       "      <th>99</th>\n",
       "      <td>1</td>\n",
       "      <td>0</td>\n",
       "      <td>1</td>\n",
       "      <td>0</td>\n",
       "    </tr>\n",
       "  </tbody>\n",
       "</table>\n",
       "<p>100 rows × 4 columns</p>\n",
       "</div>"
      ],
      "text/plain": [
       "    Gender  fbs  slope  prediction\n",
       "0        1    1      3           0\n",
       "1        1    0      2           2\n",
       "2        1    0      2           1\n",
       "3        1    0      3           0\n",
       "4        0    0      1           0\n",
       "..     ...  ...    ...         ...\n",
       "95       1    0      1           1\n",
       "96       1    0      2           2\n",
       "97       0    0      2           3\n",
       "98       1    0      1           0\n",
       "99       1    0      1           0\n",
       "\n",
       "[100 rows x 4 columns]"
      ]
     },
     "execution_count": 136,
     "metadata": {},
     "output_type": "execute_result"
    }
   ],
   "source": [
    "df2 = pd.read_csv('hw1_dataset2.csv')\n",
    "df2"
   ]
  },
  {
   "cell_type": "code",
   "execution_count": 138,
   "id": "0e24312e",
   "metadata": {},
   "outputs": [
    {
     "name": "stdout",
     "output_type": "stream",
     "text": [
      "entropy:  - 0.57*log2(0.57) - 0.19*log2(0.19) - 0.1*log2(0.1) - 0.1*log2(0.1) - 0.04*log2(0.04) = 1.7676170351690683\n",
      "\n",
      "\n",
      " - 0.479*log2(0.479)) - 0.254*log2(0.254)) - 0.127*log2(0.127)) - 0.099*log2(0.099))\n",
      "Info D_1 = 1.717881803245932\n",
      " - 0.793*log2(0.793)) - 0.034*log2(0.034)) - 0.034*log2(0.034)) - 0.103*log2(0.103))\n",
      "Info D_0 = 0.9388501852447328\n",
      "1.768- 71 / 100 * 1.718- 29 / 100 * 0.939\n",
      "Gain(Gender) = 0.27565440114348405\n",
      "\n",
      "\n",
      " - 0.615*log2(0.615)) - 0.077*log2(0.077)) - 0.154*log2(0.154)) - 0.154*log2(0.154))\n",
      "Info D_1 = 1.5465935642949382\n",
      " - 0.563*log2(0.563)) - 0.207*log2(0.207)) - 0.092*log2(0.092)) - 0.092*log2(0.092))\n",
      "Info D_0 = 1.5699411237682486\n",
      "1.768- 13 / 100 * 1.547- 87 / 100 * 1.570\n",
      "Gain(fbs) = 0.20071109413235\n",
      "\n",
      "\n",
      " - 0.545*log2(0.545)) - 0.182*log2(0.182)) - 0.091*log2(0.091)) - 0.182*log2(0.182))\n",
      "Info D_3 = 1.6858157091530304\n",
      " - 0.308*log2(0.308)) - 0.256*log2(0.256)) - 0.179*log2(0.179)) - 0.154*log2(0.154))\n",
      "Info D_2 = 1.8868971088184876\n",
      " - 0.780*log2(0.780)) - 0.140*log2(0.140)) - 0.040*log2(0.040)) - 0.040*log2(0.040))\n",
      "Info D_1 = 1.0482127699741066\n",
      "1.768- 11 / 100 * 1.686- 39 / 100 * 1.887- 50 / 100 * 1.048\n",
      "Gain(slope) = 0.3221810497359714\n",
      "best feature for split is slope\n",
      "\n",
      "\n",
      "entropy:  - 0.5454545454545454*log2(0.5454545454545454) - 0.18181818181818182*log2(0.18181818181818182) - 0.18181818181818182*log2(0.18181818181818182) - 0.09090909090909091*log2(0.09090909090909091) = 1.6858157091530304\n",
      "\n",
      "\n",
      " - 0.571*log2(0.571)) - 0.286*log2(0.286)) - 0.143*log2(0.143))\n",
      "Info D_1 = 1.3787834934861753\n",
      " - 0.500*log2(0.500)) - 0.500*log2(0.500))\n",
      "Info D_0 = 1.0\n",
      "1.686- 7 / 11 * 1.379- 4 / 11 * 1.000\n",
      "Gain(Gender) = 0.4447716678436461\n",
      "\n",
      "\n",
      " - 0.667*log2(0.667)) - 0.333*log2(0.333))\n",
      "Info D_1 = 0.9182958340544896\n",
      " - 0.500*log2(0.500)) - 0.125*log2(0.125)) - 0.125*log2(0.125)) - 0.250*log2(0.250))\n",
      "Info D_0 = 1.75\n",
      "1.686- 3 / 11 * 0.918- 8 / 11 * 1.750\n",
      "Gain(fbs) = 0.16264411804726042\n",
      "best feature for split is Gender\n",
      "\n",
      "\n",
      "entropy:  - 0.3076923076923077*log2(0.3076923076923077) - 0.2564102564102564*log2(0.2564102564102564) - 0.1794871794871795*log2(0.1794871794871795) - 0.15384615384615385*log2(0.15384615384615385) - 0.10256410256410256*log2(0.10256410256410256) = 2.223861438958205\n",
      "\n",
      "\n",
      " - 0.250*log2(0.250)) - 0.312*log2(0.312)) - 0.188*log2(0.188)) - 0.156*log2(0.156))\n",
      "Info D_1 = 1.8956657366363323\n",
      " - 0.571*log2(0.571)) - 0.143*log2(0.143)) - 0.143*log2(0.143))\n",
      "Info D_0 = 1.263447076049375\n",
      "2.224- 32 / 39 * 1.896- 7 / 39 * 1.263\n",
      "Gain(Gender) = 0.44167084652978833\n",
      "\n",
      "\n",
      " - 0.314*log2(0.314)) - 0.286*log2(0.286)) - 0.171*log2(0.171)) - 0.114*log2(0.114))\n",
      "Info D_0 = 1.8349991362023752\n",
      " - 0.250*log2(0.250)) - 0.250*log2(0.250)) - 0.500*log2(0.500))\n",
      "Info D_1 = 1.5\n",
      "2.224- 35 / 39 * 1.835- 4 / 39 * 1.500\n",
      "Gain(fbs) = 0.4232211885201761\n",
      "best feature for split is Gender\n",
      "\n",
      "\n",
      "entropy:  - 0.78*log2(0.78) - 0.14*log2(0.14) - 0.04*log2(0.04) - 0.04*log2(0.04) = 1.0482127699741066\n",
      "\n",
      "\n",
      " - 0.944*log2(0.944)) - 0.056*log2(0.056))\n",
      "Info D_0 = 0.3095434291503252\n",
      " - 0.688*log2(0.688)) - 0.188*log2(0.188)) - 0.062*log2(0.062)) - 0.062*log2(0.062))\n",
      "Info D_1 = 1.3244602933016414\n",
      "1.048- 18 / 50 * 0.310- 32 / 50 * 1.324\n",
      "Gain(Gender) = 0.08912254776693906\n",
      "\n",
      "\n",
      " - 0.773*log2(0.773)) - 0.159*log2(0.159)) - 0.023*log2(0.023)) - 0.045*log2(0.045))\n",
      "Info D_0 = 1.0361311400710524\n",
      " - 0.833*log2(0.833)) - 0.167*log2(0.167))\n",
      "Info D_1 = 0.6500224216483541\n",
      "1.048- 44 / 50 * 1.036- 6 / 50 * 0.650\n",
      "Gain(fbs) = 0.05841467611377796\n",
      "best feature for split is Gender\n",
      "\n",
      "\n",
      "feature root: prediction -> \n",
      "\tfeature slope: prediction -> 3\n",
      "\t\tfeature Gender: prediction -> 1\n",
      "\t\tfeature Gender: prediction -> 0\n",
      "\tfeature slope: prediction -> 2\n",
      "\t\tfeature Gender: prediction -> 1\n",
      "\t\tfeature Gender: prediction -> 0\n",
      "\tfeature slope: prediction -> 1\n",
      "\t\tfeature Gender: prediction -> 0\n",
      "\t\tfeature Gender: prediction -> 1\n",
      "\n"
     ]
    }
   ],
   "source": [
    "## final tree\n",
    "tree = Tree(data_frame=df2.copy(deep=True))\n",
    "tree.build_tree()\n",
    "\n",
    "print(tree)"
   ]
  },
  {
   "cell_type": "code",
   "execution_count": null,
   "id": "afb4306b",
   "metadata": {},
   "outputs": [],
   "source": []
  },
  {
   "cell_type": "code",
   "execution_count": null,
   "id": "e2c13b33",
   "metadata": {},
   "outputs": [],
   "source": []
  }
 ],
 "metadata": {
  "kernelspec": {
   "display_name": "Python 3",
   "language": "python",
   "name": "python3"
  },
  "language_info": {
   "codemirror_mode": {
    "name": "ipython",
    "version": 3
   },
   "file_extension": ".py",
   "mimetype": "text/x-python",
   "name": "python",
   "nbconvert_exporter": "python",
   "pygments_lexer": "ipython3",
   "version": "3.8.8"
  }
 },
 "nbformat": 4,
 "nbformat_minor": 5
}
