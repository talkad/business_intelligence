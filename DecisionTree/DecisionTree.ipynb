{
 "cells": [
  {
   "cell_type": "code",
   "execution_count": 161,
   "id": "d86e71a3",
   "metadata": {},
   "outputs": [],
   "source": [
    "import pandas as pd\n",
    "import math\n"
   ]
  },
  {
   "cell_type": "code",
   "execution_count": 162,
   "id": "c1afb1d0",
   "metadata": {},
   "outputs": [
    {
     "data": {
      "text/html": [
       "<div>\n",
       "<style scoped>\n",
       "    .dataframe tbody tr th:only-of-type {\n",
       "        vertical-align: middle;\n",
       "    }\n",
       "\n",
       "    .dataframe tbody tr th {\n",
       "        vertical-align: top;\n",
       "    }\n",
       "\n",
       "    .dataframe thead th {\n",
       "        text-align: right;\n",
       "    }\n",
       "</style>\n",
       "<table border=\"1\" class=\"dataframe\">\n",
       "  <thead>\n",
       "    <tr style=\"text-align: right;\">\n",
       "      <th></th>\n",
       "      <th>Weather</th>\n",
       "      <th>Parents</th>\n",
       "      <th>Money</th>\n",
       "      <th>prediction</th>\n",
       "    </tr>\n",
       "  </thead>\n",
       "  <tbody>\n",
       "    <tr>\n",
       "      <th>0</th>\n",
       "      <td>0</td>\n",
       "      <td>1</td>\n",
       "      <td>1</td>\n",
       "      <td>0</td>\n",
       "    </tr>\n",
       "    <tr>\n",
       "      <th>1</th>\n",
       "      <td>0</td>\n",
       "      <td>0</td>\n",
       "      <td>1</td>\n",
       "      <td>1</td>\n",
       "    </tr>\n",
       "    <tr>\n",
       "      <th>2</th>\n",
       "      <td>1</td>\n",
       "      <td>1</td>\n",
       "      <td>1</td>\n",
       "      <td>0</td>\n",
       "    </tr>\n",
       "    <tr>\n",
       "      <th>3</th>\n",
       "      <td>2</td>\n",
       "      <td>1</td>\n",
       "      <td>0</td>\n",
       "      <td>0</td>\n",
       "    </tr>\n",
       "    <tr>\n",
       "      <th>4</th>\n",
       "      <td>2</td>\n",
       "      <td>0</td>\n",
       "      <td>1</td>\n",
       "      <td>2</td>\n",
       "    </tr>\n",
       "    <tr>\n",
       "      <th>5</th>\n",
       "      <td>2</td>\n",
       "      <td>1</td>\n",
       "      <td>0</td>\n",
       "      <td>0</td>\n",
       "    </tr>\n",
       "    <tr>\n",
       "      <th>6</th>\n",
       "      <td>1</td>\n",
       "      <td>0</td>\n",
       "      <td>0</td>\n",
       "      <td>0</td>\n",
       "    </tr>\n",
       "    <tr>\n",
       "      <th>7</th>\n",
       "      <td>1</td>\n",
       "      <td>0</td>\n",
       "      <td>1</td>\n",
       "      <td>3</td>\n",
       "    </tr>\n",
       "    <tr>\n",
       "      <th>8</th>\n",
       "      <td>1</td>\n",
       "      <td>1</td>\n",
       "      <td>1</td>\n",
       "      <td>0</td>\n",
       "    </tr>\n",
       "    <tr>\n",
       "      <th>9</th>\n",
       "      <td>0</td>\n",
       "      <td>0</td>\n",
       "      <td>1</td>\n",
       "      <td>1</td>\n",
       "    </tr>\n",
       "  </tbody>\n",
       "</table>\n",
       "</div>"
      ],
      "text/plain": [
       "   Weather  Parents  Money  prediction\n",
       "0        0        1      1           0\n",
       "1        0        0      1           1\n",
       "2        1        1      1           0\n",
       "3        2        1      0           0\n",
       "4        2        0      1           2\n",
       "5        2        1      0           0\n",
       "6        1        0      0           0\n",
       "7        1        0      1           3\n",
       "8        1        1      1           0\n",
       "9        0        0      1           1"
      ]
     },
     "execution_count": 162,
     "metadata": {},
     "output_type": "execute_result"
    }
   ],
   "source": [
    "# df = pd.read_csv('hw1_dataset2.csv')\n",
    "df = pd.read_csv('ps_example.csv')\n",
    "\n",
    "df"
   ]
  },
  {
   "cell_type": "code",
   "execution_count": 163,
   "id": "b742ee27",
   "metadata": {},
   "outputs": [
    {
     "data": {
      "text/plain": [
       "0    6\n",
       "1    2\n",
       "2    1\n",
       "3    1\n",
       "Name: prediction, dtype: int64"
      ]
     },
     "execution_count": 163,
     "metadata": {},
     "output_type": "execute_result"
    }
   ],
   "source": [
    "num_per_class = df['prediction'].value_counts()\n",
    "\n",
    "num_per_class"
   ]
  },
  {
   "cell_type": "code",
   "execution_count": 164,
   "id": "af6ae03d",
   "metadata": {},
   "outputs": [
    {
     "data": {
      "text/plain": [
       "array([0, 1, 2, 3], dtype=int64)"
      ]
     },
     "execution_count": 164,
     "metadata": {},
     "output_type": "execute_result"
    }
   ],
   "source": [
    "classes = df['prediction'].unique()\n",
    "\n",
    "classes"
   ]
  },
  {
   "cell_type": "markdown",
   "id": "7cfdbddc",
   "metadata": {},
   "source": [
    "### Majority Rule Accuracy"
   ]
  },
  {
   "cell_type": "code",
   "execution_count": 165,
   "id": "b0591715",
   "metadata": {},
   "outputs": [
    {
     "data": {
      "text/plain": [
       "0    6\n",
       "1    2\n",
       "2    1\n",
       "3    1\n",
       "Name: prediction, dtype: int64"
      ]
     },
     "execution_count": 165,
     "metadata": {},
     "output_type": "execute_result"
    }
   ],
   "source": [
    "num_per_class"
   ]
  },
  {
   "cell_type": "code",
   "execution_count": 166,
   "id": "4b270cf7",
   "metadata": {},
   "outputs": [
    {
     "name": "stdout",
     "output_type": "stream",
     "text": [
      "Majority Rule Accuracy: 0.6\n"
     ]
    }
   ],
   "source": [
    "print(f'Majority Rule Accuracy: {num_per_class.max() / num_per_class.sum()}')"
   ]
  },
  {
   "cell_type": "markdown",
   "id": "4821a8a3",
   "metadata": {},
   "source": [
    "### ID3\n",
    "\n",
    "Figure the attribute with maximal Info. Gain"
   ]
  },
  {
   "cell_type": "code",
   "execution_count": 167,
   "id": "beff2c67",
   "metadata": {},
   "outputs": [],
   "source": [
    "\n",
    "# Calculate the entropy\n",
    "def calc_entropy(target_distr=num_per_class):\n",
    "    result = 0\n",
    "    total_ammount = target_distr.sum()\n",
    "    \n",
    "    for count in target_distr:\n",
    "        p = count/total_ammount\n",
    "        result -= p*math.log2(p)\n",
    "    return result"
   ]
  },
  {
   "cell_type": "code",
   "execution_count": 168,
   "id": "68f45788",
   "metadata": {},
   "outputs": [
    {
     "data": {
      "text/plain": [
       "1.5709505944546687"
      ]
     },
     "execution_count": 168,
     "metadata": {},
     "output_type": "execute_result"
    }
   ],
   "source": [
    "entropy = calc_entropy()\n",
    "\n",
    "entropy"
   ]
  },
  {
   "cell_type": "code",
   "execution_count": 188,
   "id": "2f62f6e0",
   "metadata": {},
   "outputs": [],
   "source": [
    "# Calculate information\n",
    "def calc_info(col_name, x, data_frame=df):\n",
    "    result = 0\n",
    "        \n",
    "    for c in classes:\n",
    "        p_class_given_x = data_frame[(data_frame['prediction']==c) & (data_frame[col_name]==x)].shape[0] / data_frame[data_frame[col_name]==x].shape[0]\n",
    "        print(f\"{data_frame[(data_frame['prediction']==c) & (data_frame[col_name]==x)].shape[0]} / {data_frame[data_frame[col_name]==x].shape[0]}\")\n",
    "        \n",
    "        if p_class_given_x != 0:\n",
    "            result -= p_class_given_x*math.log2(p_class_given_x)\n",
    "            print(f'result -= {p_class_given_x}*log2({p_class_given_x})   [{math.log2(p_class_given_x)}]')\n",
    "            \n",
    "    print(f'Info D_{x} = {result}')\n",
    "    \n",
    "    return result"
   ]
  },
  {
   "cell_type": "code",
   "execution_count": 189,
   "id": "b6e1fd89",
   "metadata": {},
   "outputs": [
    {
     "name": "stdout",
     "output_type": "stream",
     "text": [
      "1 / 3\n",
      "result -= 0.3333333333333333*log2(0.3333333333333333)   [-1.5849625007211563]\n",
      "2 / 3\n",
      "result -= 0.6666666666666666*log2(0.6666666666666666)   [-0.5849625007211563]\n",
      "0 / 3\n",
      "0 / 3\n",
      "Info D_0 = 0.9182958340544896\n"
     ]
    },
    {
     "data": {
      "text/plain": [
       "0.9182958340544896"
      ]
     },
     "execution_count": 189,
     "metadata": {},
     "output_type": "execute_result"
    }
   ],
   "source": [
    "calc_info('Weather', 0)"
   ]
  },
  {
   "cell_type": "code",
   "execution_count": 171,
   "id": "ace69e50",
   "metadata": {},
   "outputs": [],
   "source": [
    "# Calculate information gain\n",
    "def calc_gain(entropy, col_name, data_frame=df):\n",
    "    result = entropy\n",
    "    vals = data_frame[col_name].unique()\n",
    "    \n",
    "    for val in vals:\n",
    "        result -= data_frame[data_frame[col_name]==val].shape[0] / data_frame.shape[0] * calc_info(col_name, val, data_frame)\n",
    "        \n",
    "    print(f'Gain({col_name}) = {result}')\n",
    "    \n",
    "    return result\n",
    "        "
   ]
  },
  {
   "cell_type": "code",
   "execution_count": 172,
   "id": "8cfe85d6",
   "metadata": {},
   "outputs": [],
   "source": [
    "def find_opt_attr(data_frame=df):\n",
    "    entropy = calc_entropy(data_frame['prediction'].value_counts())\n",
    "    \n",
    "    features = data_frame.columns[:-1]\n",
    "    opt_col = ''\n",
    "    opt_gain = 0\n",
    "    \n",
    "    for col in features:\n",
    "        gain = calc_gain(entropy, col, data_frame)\n",
    "        \n",
    "        if gain > opt_gain:\n",
    "            opt_gain = gain\n",
    "            opt_col = col\n",
    "            \n",
    "    print(f'best feature for split is {opt_col}\\n\\n')\n",
    "    \n",
    "    return opt_col\n",
    "    "
   ]
  },
  {
   "cell_type": "code",
   "execution_count": 173,
   "id": "3bd2409e",
   "metadata": {},
   "outputs": [
    {
     "name": "stdout",
     "output_type": "stream",
     "text": [
      "Info D_0 = 0.9182958340544896\n",
      "Info D_1 = 0.8112781244591328\n",
      "Info D_2 = 0.9182958340544896\n",
      "Gain(Weather) = 0.695461844238322\n",
      "Info D_1 = 0.0\n",
      "Info D_0 = 1.9219280948873623\n",
      "Gain(Parents) = 0.6099865470109875\n",
      "Info D_1 = 1.8423709931771088\n",
      "Info D_0 = 0.0\n",
      "Gain(Money) = 0.2812908992306926\n",
      "best feature for split is Weather\n",
      "\n",
      "\n"
     ]
    },
    {
     "data": {
      "text/plain": [
       "'Weather'"
      ]
     },
     "execution_count": 173,
     "metadata": {},
     "output_type": "execute_result"
    }
   ],
   "source": [
    "find_opt_attr()"
   ]
  },
  {
   "cell_type": "markdown",
   "id": "c040bc36",
   "metadata": {},
   "source": [
    "Define the tree class"
   ]
  },
  {
   "cell_type": "code",
   "execution_count": 174,
   "id": "127ef1ba",
   "metadata": {},
   "outputs": [],
   "source": [
    "class Tree:\n",
    "    \n",
    "    def __init__(self, max_depth=2, data_frame=df):\n",
    "        self.max_depth = max_depth\n",
    "        self.childs = []\n",
    "        self.feature = 'root'\n",
    "        self.pred = ''\n",
    "        self.data_frame = data_frame\n",
    "        \n",
    "    def build_tree(self, data, depth=2):\n",
    "\n",
    "        if depth == 0:\n",
    "            print('ok')\n",
    "            return None\n",
    "        \n",
    "        if len(df['prediction'].unique()) == 1:\n",
    "            pred = df['prediction'][0]\n",
    "            return None\n",
    "        \n",
    "        # if there are no attribute left\n",
    "        if data.shape[1] == 1:\n",
    "            pred = data['prediction'].value_counts().idxmax()\n",
    "            return None\n",
    "        \n",
    "        opt_feature = find_opt_attr(data)\n",
    "        attributes = data[opt_feature].unique()\n",
    "        \n",
    "        for attr in attributes:\n",
    "            tree = Tree()\n",
    "            tree.feature = opt_feature\n",
    "            tree.pred = attr\n",
    "            data = data[data[opt_feature]==attr]\n",
    "            data.drop(opt_feature, axis=1, inplace=True)\n",
    "            tree.build_tree(data.copy(deep=True), depth - 1)\n",
    "            \n",
    "            self.childs.append(tree)\n",
    "    \n",
    "    def print_tree(self):\n",
    "        print(f'node feature {self.feature}, pred -> {self.pred}')\n",
    "        \n",
    "        for child in self.childs:\n",
    "            child.print_tree()"
   ]
  },
  {
   "cell_type": "code",
   "execution_count": 175,
   "id": "ca846291",
   "metadata": {},
   "outputs": [
    {
     "name": "stdout",
     "output_type": "stream",
     "text": [
      "node feature root, pred -> \n"
     ]
    }
   ],
   "source": [
    "decision_tree = Tree()\n",
    "\n",
    "decision_tree.print_tree()"
   ]
  },
  {
   "cell_type": "code",
   "execution_count": 195,
   "id": "00d22ae1",
   "metadata": {},
   "outputs": [
    {
     "data": {
      "text/html": [
       "<div>\n",
       "<style scoped>\n",
       "    .dataframe tbody tr th:only-of-type {\n",
       "        vertical-align: middle;\n",
       "    }\n",
       "\n",
       "    .dataframe tbody tr th {\n",
       "        vertical-align: top;\n",
       "    }\n",
       "\n",
       "    .dataframe thead th {\n",
       "        text-align: right;\n",
       "    }\n",
       "</style>\n",
       "<table border=\"1\" class=\"dataframe\">\n",
       "  <thead>\n",
       "    <tr style=\"text-align: right;\">\n",
       "      <th></th>\n",
       "      <th>Weather</th>\n",
       "      <th>Parents</th>\n",
       "      <th>Money</th>\n",
       "      <th>prediction</th>\n",
       "    </tr>\n",
       "  </thead>\n",
       "  <tbody>\n",
       "    <tr>\n",
       "      <th>0</th>\n",
       "      <td>0</td>\n",
       "      <td>1</td>\n",
       "      <td>1</td>\n",
       "      <td>0</td>\n",
       "    </tr>\n",
       "    <tr>\n",
       "      <th>1</th>\n",
       "      <td>0</td>\n",
       "      <td>0</td>\n",
       "      <td>1</td>\n",
       "      <td>1</td>\n",
       "    </tr>\n",
       "    <tr>\n",
       "      <th>2</th>\n",
       "      <td>1</td>\n",
       "      <td>1</td>\n",
       "      <td>1</td>\n",
       "      <td>0</td>\n",
       "    </tr>\n",
       "    <tr>\n",
       "      <th>3</th>\n",
       "      <td>2</td>\n",
       "      <td>1</td>\n",
       "      <td>0</td>\n",
       "      <td>0</td>\n",
       "    </tr>\n",
       "    <tr>\n",
       "      <th>4</th>\n",
       "      <td>2</td>\n",
       "      <td>0</td>\n",
       "      <td>1</td>\n",
       "      <td>2</td>\n",
       "    </tr>\n",
       "    <tr>\n",
       "      <th>5</th>\n",
       "      <td>2</td>\n",
       "      <td>1</td>\n",
       "      <td>0</td>\n",
       "      <td>0</td>\n",
       "    </tr>\n",
       "    <tr>\n",
       "      <th>6</th>\n",
       "      <td>1</td>\n",
       "      <td>0</td>\n",
       "      <td>0</td>\n",
       "      <td>0</td>\n",
       "    </tr>\n",
       "    <tr>\n",
       "      <th>7</th>\n",
       "      <td>1</td>\n",
       "      <td>0</td>\n",
       "      <td>1</td>\n",
       "      <td>3</td>\n",
       "    </tr>\n",
       "    <tr>\n",
       "      <th>8</th>\n",
       "      <td>1</td>\n",
       "      <td>1</td>\n",
       "      <td>1</td>\n",
       "      <td>0</td>\n",
       "    </tr>\n",
       "    <tr>\n",
       "      <th>9</th>\n",
       "      <td>0</td>\n",
       "      <td>0</td>\n",
       "      <td>1</td>\n",
       "      <td>1</td>\n",
       "    </tr>\n",
       "  </tbody>\n",
       "</table>\n",
       "</div>"
      ],
      "text/plain": [
       "   Weather  Parents  Money  prediction\n",
       "0        0        1      1           0\n",
       "1        0        0      1           1\n",
       "2        1        1      1           0\n",
       "3        2        1      0           0\n",
       "4        2        0      1           2\n",
       "5        2        1      0           0\n",
       "6        1        0      0           0\n",
       "7        1        0      1           3\n",
       "8        1        1      1           0\n",
       "9        0        0      1           1"
      ]
     },
     "execution_count": 195,
     "metadata": {},
     "output_type": "execute_result"
    }
   ],
   "source": [
    "df"
   ]
  },
  {
   "cell_type": "code",
   "execution_count": 196,
   "id": "da58cb99",
   "metadata": {},
   "outputs": [
    {
     "name": "stdout",
     "output_type": "stream",
     "text": [
      "1 / 3\n",
      "result -= 0.3333333333333333*log2(0.3333333333333333)   [-1.5849625007211563]\n",
      "2 / 3\n",
      "result -= 0.6666666666666666*log2(0.6666666666666666)   [-0.5849625007211563]\n",
      "0 / 3\n",
      "0 / 3\n",
      "Info D_0 = 0.9182958340544896\n",
      "3 / 4\n",
      "result -= 0.75*log2(0.75)   [-0.4150374992788438]\n",
      "0 / 4\n",
      "0 / 4\n",
      "1 / 4\n",
      "result -= 0.25*log2(0.25)   [-2.0]\n",
      "Info D_1 = 0.8112781244591328\n",
      "2 / 3\n",
      "result -= 0.6666666666666666*log2(0.6666666666666666)   [-0.5849625007211563]\n",
      "0 / 3\n",
      "1 / 3\n",
      "result -= 0.3333333333333333*log2(0.3333333333333333)   [-1.5849625007211563]\n",
      "0 / 3\n",
      "Info D_2 = 0.9182958340544896\n",
      "Gain(Weather) = 0.695461844238322\n",
      "5 / 5\n",
      "result -= 1.0*log2(1.0)   [0.0]\n",
      "0 / 5\n",
      "0 / 5\n",
      "0 / 5\n",
      "Info D_1 = 0.0\n",
      "1 / 5\n",
      "result -= 0.2*log2(0.2)   [-2.321928094887362]\n",
      "2 / 5\n",
      "result -= 0.4*log2(0.4)   [-1.3219280948873622]\n",
      "1 / 5\n",
      "result -= 0.2*log2(0.2)   [-2.321928094887362]\n",
      "1 / 5\n",
      "result -= 0.2*log2(0.2)   [-2.321928094887362]\n",
      "Info D_0 = 1.9219280948873623\n",
      "Gain(Parents) = 0.6099865470109875\n",
      "3 / 7\n",
      "result -= 0.42857142857142855*log2(0.42857142857142855)   [-1.222392421336448]\n",
      "2 / 7\n",
      "result -= 0.2857142857142857*log2(0.2857142857142857)   [-1.8073549220576042]\n",
      "1 / 7\n",
      "result -= 0.14285714285714285*log2(0.14285714285714285)   [-2.807354922057604]\n",
      "1 / 7\n",
      "result -= 0.14285714285714285*log2(0.14285714285714285)   [-2.807354922057604]\n",
      "Info D_1 = 1.8423709931771088\n",
      "3 / 3\n",
      "result -= 1.0*log2(1.0)   [0.0]\n",
      "0 / 3\n",
      "0 / 3\n",
      "0 / 3\n",
      "Info D_0 = 0.0\n",
      "Gain(Money) = 0.2812908992306926\n",
      "best feature for split is Weather\n",
      "\n",
      "\n"
     ]
    },
    {
     "data": {
      "text/plain": [
       "'Weather'"
      ]
     },
     "execution_count": 196,
     "metadata": {},
     "output_type": "execute_result"
    }
   ],
   "source": [
    "find_opt_attr(df)"
   ]
  },
  {
   "cell_type": "code",
   "execution_count": 201,
   "id": "8cb9e021",
   "metadata": {},
   "outputs": [
    {
     "name": "stdout",
     "output_type": "stream",
     "text": [
      "\n",
      " note of attr 0\n",
      "   Weather  Parents  Money  prediction\n",
      "0        0        1      1           0\n",
      "1        0        0      1           1\n",
      "9        0        0      1           1\n",
      "1 / 1\n",
      "result -= 1.0*log2(1.0)   [0.0]\n",
      "0 / 1\n",
      "0 / 1\n",
      "0 / 1\n",
      "Info D_1 = 0.0\n",
      "0 / 2\n",
      "2 / 2\n",
      "result -= 1.0*log2(1.0)   [0.0]\n",
      "0 / 2\n",
      "0 / 2\n",
      "Info D_0 = 0.0\n",
      "Gain(Parents) = 0.9182958340544896\n",
      "1 / 3\n",
      "result -= 0.3333333333333333*log2(0.3333333333333333)   [-1.5849625007211563]\n",
      "2 / 3\n",
      "result -= 0.6666666666666666*log2(0.6666666666666666)   [-0.5849625007211563]\n",
      "0 / 3\n",
      "0 / 3\n",
      "Info D_1 = 0.9182958340544896\n",
      "Gain(Money) = 0.0\n",
      "best feature for split is Parents\n",
      "\n",
      "\n",
      "\n",
      " note of attr 1\n",
      "   Weather  Parents  Money  prediction\n",
      "2        1        1      1           0\n",
      "6        1        0      0           0\n",
      "7        1        0      1           3\n",
      "8        1        1      1           0\n",
      "2 / 2\n",
      "result -= 1.0*log2(1.0)   [0.0]\n",
      "0 / 2\n",
      "0 / 2\n",
      "0 / 2\n",
      "Info D_1 = 0.0\n",
      "1 / 2\n",
      "result -= 0.5*log2(0.5)   [-1.0]\n",
      "0 / 2\n",
      "0 / 2\n",
      "1 / 2\n",
      "result -= 0.5*log2(0.5)   [-1.0]\n",
      "Info D_0 = 1.0\n",
      "Gain(Parents) = 0.31127812445913283\n",
      "2 / 3\n",
      "result -= 0.6666666666666666*log2(0.6666666666666666)   [-0.5849625007211563]\n",
      "0 / 3\n",
      "0 / 3\n",
      "1 / 3\n",
      "result -= 0.3333333333333333*log2(0.3333333333333333)   [-1.5849625007211563]\n",
      "Info D_1 = 0.9182958340544896\n",
      "1 / 1\n",
      "result -= 1.0*log2(1.0)   [0.0]\n",
      "0 / 1\n",
      "0 / 1\n",
      "0 / 1\n",
      "Info D_0 = 0.0\n",
      "Gain(Money) = 0.12255624891826566\n",
      "best feature for split is Parents\n",
      "\n",
      "\n",
      "\n",
      " note of attr 2\n",
      "   Weather  Parents  Money  prediction\n",
      "3        2        1      0           0\n",
      "4        2        0      1           2\n",
      "5        2        1      0           0\n",
      "2 / 2\n",
      "result -= 1.0*log2(1.0)   [0.0]\n",
      "0 / 2\n",
      "0 / 2\n",
      "0 / 2\n",
      "Info D_1 = 0.0\n",
      "0 / 1\n",
      "0 / 1\n",
      "1 / 1\n",
      "result -= 1.0*log2(1.0)   [0.0]\n",
      "0 / 1\n",
      "Info D_0 = 0.0\n",
      "Gain(Parents) = 0.9182958340544896\n",
      "2 / 2\n",
      "result -= 1.0*log2(1.0)   [0.0]\n",
      "0 / 2\n",
      "0 / 2\n",
      "0 / 2\n",
      "Info D_0 = 0.0\n",
      "0 / 1\n",
      "0 / 1\n",
      "1 / 1\n",
      "result -= 1.0*log2(1.0)   [0.0]\n",
      "0 / 1\n",
      "Info D_1 = 0.0\n",
      "Gain(Money) = 0.9182958340544896\n",
      "best feature for split is Parents\n",
      "\n",
      "\n"
     ]
    }
   ],
   "source": [
    "attributes = df['Weather'].unique()\n",
    "\n",
    "for attr in attributes:\n",
    "    print(f'\\n note of attr {attr}')\n",
    "    data = df.copy(deep=True)\n",
    "    data = data[data['Weather']==attr]\n",
    "    print(data)\n",
    "    data = data.drop('Weather', axis=1)\n",
    "    find_opt_attr(data)\n",
    "    \n",
    "    "
   ]
  },
  {
   "cell_type": "code",
   "execution_count": 208,
   "id": "4f9ebc74",
   "metadata": {},
   "outputs": [
    {
     "data": {
      "text/html": [
       "<div>\n",
       "<style scoped>\n",
       "    .dataframe tbody tr th:only-of-type {\n",
       "        vertical-align: middle;\n",
       "    }\n",
       "\n",
       "    .dataframe tbody tr th {\n",
       "        vertical-align: top;\n",
       "    }\n",
       "\n",
       "    .dataframe thead th {\n",
       "        text-align: right;\n",
       "    }\n",
       "</style>\n",
       "<table border=\"1\" class=\"dataframe\">\n",
       "  <thead>\n",
       "    <tr style=\"text-align: right;\">\n",
       "      <th></th>\n",
       "      <th>Weather</th>\n",
       "      <th>Parents</th>\n",
       "      <th>Money</th>\n",
       "      <th>prediction</th>\n",
       "    </tr>\n",
       "  </thead>\n",
       "  <tbody>\n",
       "    <tr>\n",
       "      <th>6</th>\n",
       "      <td>1</td>\n",
       "      <td>0</td>\n",
       "      <td>0</td>\n",
       "      <td>0</td>\n",
       "    </tr>\n",
       "    <tr>\n",
       "      <th>7</th>\n",
       "      <td>1</td>\n",
       "      <td>0</td>\n",
       "      <td>1</td>\n",
       "      <td>3</td>\n",
       "    </tr>\n",
       "  </tbody>\n",
       "</table>\n",
       "</div>"
      ],
      "text/plain": [
       "   Weather  Parents  Money  prediction\n",
       "6        1        0      0           0\n",
       "7        1        0      1           3"
      ]
     },
     "execution_count": 208,
     "metadata": {},
     "output_type": "execute_result"
    }
   ],
   "source": [
    "df[(df['Weather']==1) & (df['Parents']==0)]"
   ]
  },
  {
   "cell_type": "code",
   "execution_count": 210,
   "id": "552d710d",
   "metadata": {},
   "outputs": [
    {
     "name": "stdout",
     "output_type": "stream",
     "text": [
      "1 / 2\n",
      "result -= 0.5*log2(0.5)   [-1.0]\n",
      "0 / 2\n",
      "0 / 2\n",
      "1 / 2\n",
      "result -= 0.5*log2(0.5)   [-1.0]\n",
      "Info D_1 = 1.0\n",
      "Gain(Weather) = 0.0\n",
      "1 / 2\n",
      "result -= 0.5*log2(0.5)   [-1.0]\n",
      "0 / 2\n",
      "0 / 2\n",
      "1 / 2\n",
      "result -= 0.5*log2(0.5)   [-1.0]\n",
      "Info D_0 = 1.0\n",
      "Gain(Parents) = 0.0\n",
      "1 / 1\n",
      "result -= 1.0*log2(1.0)   [0.0]\n",
      "0 / 1\n",
      "0 / 1\n",
      "0 / 1\n",
      "Info D_0 = 0.0\n",
      "0 / 1\n",
      "0 / 1\n",
      "0 / 1\n",
      "1 / 1\n",
      "result -= 1.0*log2(1.0)   [0.0]\n",
      "Info D_1 = 0.0\n",
      "Gain(Money) = 1.0\n",
      "best feature for split is Money\n",
      "\n",
      "\n"
     ]
    },
    {
     "data": {
      "text/plain": [
       "'Money'"
      ]
     },
     "execution_count": 210,
     "metadata": {},
     "output_type": "execute_result"
    }
   ],
   "source": [
    "find_opt_attr(df[(df['Weather']==1) & (df['Parents']==0)])"
   ]
  },
  {
   "cell_type": "code",
   "execution_count": null,
   "id": "a9a6bfad",
   "metadata": {},
   "outputs": [],
   "source": []
  }
 ],
 "metadata": {
  "kernelspec": {
   "display_name": "Python 3",
   "language": "python",
   "name": "python3"
  },
  "language_info": {
   "codemirror_mode": {
    "name": "ipython",
    "version": 3
   },
   "file_extension": ".py",
   "mimetype": "text/x-python",
   "name": "python",
   "nbconvert_exporter": "python",
   "pygments_lexer": "ipython3",
   "version": "3.8.8"
  }
 },
 "nbformat": 4,
 "nbformat_minor": 5
}
