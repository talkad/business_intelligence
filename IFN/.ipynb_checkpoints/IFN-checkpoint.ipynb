{
 "cells": [
  {
   "cell_type": "markdown",
   "id": "986953dd",
   "metadata": {},
   "source": [
    "### First Split"
   ]
  },
  {
   "cell_type": "code",
   "execution_count": 1,
   "id": "bbb10e67",
   "metadata": {},
   "outputs": [],
   "source": [
    "import pandas as pd\n"
   ]
  },
  {
   "cell_type": "code",
   "execution_count": 6,
   "id": "58a2a6e7",
   "metadata": {},
   "outputs": [
    {
     "data": {
      "text/html": [
       "<div>\n",
       "<style scoped>\n",
       "    .dataframe tbody tr th:only-of-type {\n",
       "        vertical-align: middle;\n",
       "    }\n",
       "\n",
       "    .dataframe tbody tr th {\n",
       "        vertical-align: top;\n",
       "    }\n",
       "\n",
       "    .dataframe thead th {\n",
       "        text-align: right;\n",
       "    }\n",
       "</style>\n",
       "<table border=\"1\" class=\"dataframe\">\n",
       "  <thead>\n",
       "    <tr style=\"text-align: right;\">\n",
       "      <th></th>\n",
       "      <th>gender</th>\n",
       "      <th>fbs</th>\n",
       "      <th>slope</th>\n",
       "      <th>age</th>\n",
       "      <th>prediction</th>\n",
       "    </tr>\n",
       "  </thead>\n",
       "  <tbody>\n",
       "    <tr>\n",
       "      <th>0</th>\n",
       "      <td>male</td>\n",
       "      <td>True</td>\n",
       "      <td>downsloping</td>\n",
       "      <td>63</td>\n",
       "      <td>absence</td>\n",
       "    </tr>\n",
       "    <tr>\n",
       "      <th>1</th>\n",
       "      <td>male</td>\n",
       "      <td>False</td>\n",
       "      <td>flat</td>\n",
       "      <td>67</td>\n",
       "      <td>presence</td>\n",
       "    </tr>\n",
       "    <tr>\n",
       "      <th>2</th>\n",
       "      <td>male</td>\n",
       "      <td>False</td>\n",
       "      <td>flat</td>\n",
       "      <td>67</td>\n",
       "      <td>presence</td>\n",
       "    </tr>\n",
       "    <tr>\n",
       "      <th>3</th>\n",
       "      <td>male</td>\n",
       "      <td>False</td>\n",
       "      <td>downsloping</td>\n",
       "      <td>37</td>\n",
       "      <td>absence</td>\n",
       "    </tr>\n",
       "    <tr>\n",
       "      <th>4</th>\n",
       "      <td>female</td>\n",
       "      <td>False</td>\n",
       "      <td>upsloping</td>\n",
       "      <td>41</td>\n",
       "      <td>absence</td>\n",
       "    </tr>\n",
       "  </tbody>\n",
       "</table>\n",
       "</div>"
      ],
      "text/plain": [
       "   gender    fbs        slope  age prediction\n",
       "0    male   True  downsloping   63    absence\n",
       "1    male  False         flat   67   presence\n",
       "2    male  False         flat   67   presence\n",
       "3    male  False  downsloping   37    absence\n",
       "4  female  False    upsloping   41    absence"
      ]
     },
     "execution_count": 6,
     "metadata": {},
     "output_type": "execute_result"
    }
   ],
   "source": [
    "df = pd.read_csv('dataset.csv')\n",
    "df.drop(['index'], axis = 1, inplace = True) \n",
    "df.head()"
   ]
  },
  {
   "cell_type": "code",
   "execution_count": 8,
   "id": "b02de564",
   "metadata": {},
   "outputs": [
    {
     "data": {
      "text/plain": [
       "male      71\n",
       "female    29\n",
       "Name: gender, dtype: int64"
      ]
     },
     "execution_count": 8,
     "metadata": {},
     "output_type": "execute_result"
    }
   ],
   "source": [
    "df['gender'].value_counts()"
   ]
  },
  {
   "cell_type": "code",
   "execution_count": 9,
   "id": "7d997630",
   "metadata": {},
   "outputs": [
    {
     "data": {
      "text/plain": [
       "False    87\n",
       "True     13\n",
       "Name: fbs, dtype: int64"
      ]
     },
     "execution_count": 9,
     "metadata": {},
     "output_type": "execute_result"
    }
   ],
   "source": [
    "df['fbs'].value_counts()"
   ]
  },
  {
   "cell_type": "code",
   "execution_count": 10,
   "id": "91055c41",
   "metadata": {},
   "outputs": [
    {
     "data": {
      "text/plain": [
       "upsloping      50\n",
       "flat           39\n",
       "downsloping    11\n",
       "Name: slope, dtype: int64"
      ]
     },
     "execution_count": 10,
     "metadata": {},
     "output_type": "execute_result"
    }
   ],
   "source": [
    "df['slope'].value_counts()"
   ]
  },
  {
   "cell_type": "code",
   "execution_count": 19,
   "id": "c4e6fdb7",
   "metadata": {},
   "outputs": [
    {
     "name": "stdout",
     "output_type": "stream",
     "text": [
      "(37, 71)\n"
     ]
    }
   ],
   "source": [
    "age = list(df['age'].sort_values())\n",
    "print(f'({age[0]}, {age[-1]})')"
   ]
  },
  {
   "cell_type": "code",
   "execution_count": 35,
   "id": "7e44e1db",
   "metadata": {},
   "outputs": [
    {
     "name": "stdout",
     "output_type": "stream",
     "text": [
      "total: 100\n",
      "34\n"
     ]
    },
    {
     "data": {
      "text/html": [
       "<div>\n",
       "<style scoped>\n",
       "    .dataframe tbody tr th:only-of-type {\n",
       "        vertical-align: middle;\n",
       "    }\n",
       "\n",
       "    .dataframe tbody tr th {\n",
       "        vertical-align: top;\n",
       "    }\n",
       "\n",
       "    .dataframe thead th {\n",
       "        text-align: right;\n",
       "    }\n",
       "</style>\n",
       "<table border=\"1\" class=\"dataframe\">\n",
       "  <thead>\n",
       "    <tr style=\"text-align: right;\">\n",
       "      <th></th>\n",
       "      <th>absence</th>\n",
       "      <th>presence</th>\n",
       "    </tr>\n",
       "  </thead>\n",
       "  <tbody>\n",
       "    <tr>\n",
       "      <th>male</th>\n",
       "      <td>34</td>\n",
       "      <td>37</td>\n",
       "    </tr>\n",
       "    <tr>\n",
       "      <th>female</th>\n",
       "      <td>23</td>\n",
       "      <td>6</td>\n",
       "    </tr>\n",
       "  </tbody>\n",
       "</table>\n",
       "</div>"
      ],
      "text/plain": [
       "        absence  presence\n",
       "male         34        37\n",
       "female       23         6"
      ]
     },
     "execution_count": 35,
     "metadata": {},
     "output_type": "execute_result"
    }
   ],
   "source": [
    "print(f'total: {len(df)}')\n",
    "\n",
    "classes = df['prediction'].unique()\n",
    "genders = df['gender'].unique()\n",
    "fbs = df['fbs'].unique()\n",
    "slopes = df['slope'].unique()\n",
    "\n",
    "# gender\n",
    "d = {'absence': [], 'presence': []}\n",
    "\n",
    "for c in classes:\n",
    "    for gender in genders:\n",
    "        d[c].append(len(df[(df.gender == gender) & (df.prediction == c)]))\n",
    "\n",
    "pd.DataFrame(data=d, index=genders)"
   ]
  },
  {
   "cell_type": "code",
   "execution_count": 37,
   "id": "598e2de7",
   "metadata": {},
   "outputs": [
    {
     "data": {
      "text/html": [
       "<div>\n",
       "<style scoped>\n",
       "    .dataframe tbody tr th:only-of-type {\n",
       "        vertical-align: middle;\n",
       "    }\n",
       "\n",
       "    .dataframe tbody tr th {\n",
       "        vertical-align: top;\n",
       "    }\n",
       "\n",
       "    .dataframe thead th {\n",
       "        text-align: right;\n",
       "    }\n",
       "</style>\n",
       "<table border=\"1\" class=\"dataframe\">\n",
       "  <thead>\n",
       "    <tr style=\"text-align: right;\">\n",
       "      <th></th>\n",
       "      <th>absence</th>\n",
       "      <th>presence</th>\n",
       "    </tr>\n",
       "  </thead>\n",
       "  <tbody>\n",
       "    <tr>\n",
       "      <th>True</th>\n",
       "      <td>8</td>\n",
       "      <td>5</td>\n",
       "    </tr>\n",
       "    <tr>\n",
       "      <th>False</th>\n",
       "      <td>49</td>\n",
       "      <td>38</td>\n",
       "    </tr>\n",
       "  </tbody>\n",
       "</table>\n",
       "</div>"
      ],
      "text/plain": [
       "       absence  presence\n",
       "True         8         5\n",
       "False       49        38"
      ]
     },
     "execution_count": 37,
     "metadata": {},
     "output_type": "execute_result"
    }
   ],
   "source": [
    "# fbs\n",
    "d = {'absence': [], 'presence': []}\n",
    "\n",
    "for c in classes:\n",
    "    for fb in fbs:\n",
    "        d[c].append(len(df[(df.fbs == fb) & (df.prediction == c)]))\n",
    "\n",
    "pd.DataFrame(data=d, index=fbs)"
   ]
  },
  {
   "cell_type": "code",
   "execution_count": 38,
   "id": "f18b18f0",
   "metadata": {},
   "outputs": [
    {
     "data": {
      "text/html": [
       "<div>\n",
       "<style scoped>\n",
       "    .dataframe tbody tr th:only-of-type {\n",
       "        vertical-align: middle;\n",
       "    }\n",
       "\n",
       "    .dataframe tbody tr th {\n",
       "        vertical-align: top;\n",
       "    }\n",
       "\n",
       "    .dataframe thead th {\n",
       "        text-align: right;\n",
       "    }\n",
       "</style>\n",
       "<table border=\"1\" class=\"dataframe\">\n",
       "  <thead>\n",
       "    <tr style=\"text-align: right;\">\n",
       "      <th></th>\n",
       "      <th>absence</th>\n",
       "      <th>presence</th>\n",
       "    </tr>\n",
       "  </thead>\n",
       "  <tbody>\n",
       "    <tr>\n",
       "      <th>downsloping</th>\n",
       "      <td>6</td>\n",
       "      <td>5</td>\n",
       "    </tr>\n",
       "    <tr>\n",
       "      <th>flat</th>\n",
       "      <td>12</td>\n",
       "      <td>27</td>\n",
       "    </tr>\n",
       "    <tr>\n",
       "      <th>upsloping</th>\n",
       "      <td>39</td>\n",
       "      <td>11</td>\n",
       "    </tr>\n",
       "  </tbody>\n",
       "</table>\n",
       "</div>"
      ],
      "text/plain": [
       "             absence  presence\n",
       "downsloping        6         5\n",
       "flat              12        27\n",
       "upsloping         39        11"
      ]
     },
     "execution_count": 38,
     "metadata": {},
     "output_type": "execute_result"
    }
   ],
   "source": [
    "# slope\n",
    "d = {'absence': [], 'presence': []}\n",
    "\n",
    "for c in classes:\n",
    "    for slope in slopes:\n",
    "        d[c].append(len(df[(df.slope == slope) & (df.prediction == c)]))\n",
    "\n",
    "pd.DataFrame(data=d, index=slopes)"
   ]
  },
  {
   "cell_type": "code",
   "execution_count": 39,
   "id": "4c90510e",
   "metadata": {},
   "outputs": [
    {
     "data": {
      "text/html": [
       "<div>\n",
       "<style scoped>\n",
       "    .dataframe tbody tr th:only-of-type {\n",
       "        vertical-align: middle;\n",
       "    }\n",
       "\n",
       "    .dataframe tbody tr th {\n",
       "        vertical-align: top;\n",
       "    }\n",
       "\n",
       "    .dataframe thead th {\n",
       "        text-align: right;\n",
       "    }\n",
       "</style>\n",
       "<table border=\"1\" class=\"dataframe\">\n",
       "  <thead>\n",
       "    <tr style=\"text-align: right;\">\n",
       "      <th></th>\n",
       "      <th>absence</th>\n",
       "      <th>presence</th>\n",
       "    </tr>\n",
       "  </thead>\n",
       "  <tbody>\n",
       "    <tr>\n",
       "      <th>&lt;=57</th>\n",
       "      <td>40</td>\n",
       "      <td>17</td>\n",
       "    </tr>\n",
       "    <tr>\n",
       "      <th>&gt;57</th>\n",
       "      <td>17</td>\n",
       "      <td>26</td>\n",
       "    </tr>\n",
       "  </tbody>\n",
       "</table>\n",
       "</div>"
      ],
      "text/plain": [
       "      absence  presence\n",
       "<=57       40        17\n",
       ">57        17        26"
      ]
     },
     "execution_count": 39,
     "metadata": {},
     "output_type": "execute_result"
    }
   ],
   "source": [
    "# age\n",
    "d = {'absence': [len(df[(df.age <= 57) & (df.prediction == 'absence')]), len(df[(df.age > 57) & (df.prediction == 'absence')])],\n",
    "     'presence': [len(df[(df.age <= 57) & (df.prediction == 'presence')]), len(df[(df.age > 57) & (df.prediction == 'presence')])]}\n",
    "\n",
    "\n",
    "pd.DataFrame(data=d, index=['<=57', '>57'])"
   ]
  },
  {
   "cell_type": "code",
   "execution_count": 40,
   "id": "327260b9",
   "metadata": {},
   "outputs": [
    {
     "data": {
      "text/html": [
       "<div>\n",
       "<style scoped>\n",
       "    .dataframe tbody tr th:only-of-type {\n",
       "        vertical-align: middle;\n",
       "    }\n",
       "\n",
       "    .dataframe tbody tr th {\n",
       "        vertical-align: top;\n",
       "    }\n",
       "\n",
       "    .dataframe thead th {\n",
       "        text-align: right;\n",
       "    }\n",
       "</style>\n",
       "<table border=\"1\" class=\"dataframe\">\n",
       "  <thead>\n",
       "    <tr style=\"text-align: right;\">\n",
       "      <th></th>\n",
       "      <th>absence</th>\n",
       "      <th>presence</th>\n",
       "    </tr>\n",
       "  </thead>\n",
       "  <tbody>\n",
       "    <tr>\n",
       "      <th>&lt;=65</th>\n",
       "      <td>53</td>\n",
       "      <td>39</td>\n",
       "    </tr>\n",
       "    <tr>\n",
       "      <th>&gt;65</th>\n",
       "      <td>4</td>\n",
       "      <td>4</td>\n",
       "    </tr>\n",
       "  </tbody>\n",
       "</table>\n",
       "</div>"
      ],
      "text/plain": [
       "      absence  presence\n",
       "<=65       53        39\n",
       ">65         4         4"
      ]
     },
     "execution_count": 40,
     "metadata": {},
     "output_type": "execute_result"
    }
   ],
   "source": [
    "# age\n",
    "d = {'absence': [len(df[(df.age <= 65) & (df.prediction == 'absence')]), len(df[(df.age > 65) & (df.prediction == 'absence')])],\n",
    "     'presence': [len(df[(df.age <= 65) & (df.prediction == 'presence')]), len(df[(df.age > 65) & (df.prediction == 'presence')])]}\n",
    "\n",
    "\n",
    "pd.DataFrame(data=d, index=['<=65', '>65'])"
   ]
  },
  {
   "cell_type": "code",
   "execution_count": 201,
   "id": "32b58b7a",
   "metadata": {},
   "outputs": [],
   "source": [
    "import math\n",
    "\n",
    "def MI(x,y,z,total):\n",
    "    if x == 0:\n",
    "        return 0\n",
    "    \n",
    "    print(f'{x}/100*math.log2(({x}/{total})/(({y}/{total})*({z}/{total})))')\n",
    "    return x/100*math.log2((x/total)/((y/total)*(z/total)))\n",
    "\n",
    "def G(x):\n",
    "    if x == 0:\n",
    "        return 0\n",
    "    \n",
    "    return 2*math.log(2)*100*x"
   ]
  },
  {
   "cell_type": "code",
   "execution_count": 151,
   "id": "a7ca5a17",
   "metadata": {},
   "outputs": [
    {
     "data": {
      "text/plain": [
       "-0.09169925001442313"
      ]
     },
     "execution_count": 151,
     "metadata": {},
     "output_type": "execute_result"
    }
   ],
   "source": [
    "calc(2,2,48,11)"
   ]
  },
  {
   "cell_type": "code",
   "execution_count": 152,
   "id": "be5f173d",
   "metadata": {},
   "outputs": [
    {
     "data": {
      "text/plain": [
       "-115.06243197295092"
      ]
     },
     "execution_count": 152,
     "metadata": {},
     "output_type": "execute_result"
    }
   ],
   "source": [
    "calc2(-0.83)"
   ]
  },
  {
   "cell_type": "code",
   "execution_count": 134,
   "id": "ba1b7afd",
   "metadata": {},
   "outputs": [
    {
     "data": {
      "text/plain": [
       "39"
      ]
     },
     "execution_count": 134,
     "metadata": {},
     "output_type": "execute_result"
    }
   ],
   "source": [
    "len(df[df.slope == 'flat'])"
   ]
  },
  {
   "cell_type": "markdown",
   "id": "86e8c7c4",
   "metadata": {},
   "source": [
    "## Second split"
   ]
  },
  {
   "cell_type": "code",
   "execution_count": 128,
   "id": "edebc8a9",
   "metadata": {},
   "outputs": [
    {
     "data": {
      "text/html": [
       "<div>\n",
       "<style scoped>\n",
       "    .dataframe tbody tr th:only-of-type {\n",
       "        vertical-align: middle;\n",
       "    }\n",
       "\n",
       "    .dataframe tbody tr th {\n",
       "        vertical-align: top;\n",
       "    }\n",
       "\n",
       "    .dataframe thead th {\n",
       "        text-align: right;\n",
       "    }\n",
       "</style>\n",
       "<table border=\"1\" class=\"dataframe\">\n",
       "  <thead>\n",
       "    <tr style=\"text-align: right;\">\n",
       "      <th></th>\n",
       "      <th>absence</th>\n",
       "      <th>presence</th>\n",
       "    </tr>\n",
       "  </thead>\n",
       "  <tbody>\n",
       "    <tr>\n",
       "      <th>male</th>\n",
       "      <td>22</td>\n",
       "      <td>10</td>\n",
       "    </tr>\n",
       "    <tr>\n",
       "      <th>female</th>\n",
       "      <td>17</td>\n",
       "      <td>1</td>\n",
       "    </tr>\n",
       "  </tbody>\n",
       "</table>\n",
       "</div>"
      ],
      "text/plain": [
       "        absence  presence\n",
       "male         22        10\n",
       "female       17         1"
      ]
     },
     "execution_count": 128,
     "metadata": {},
     "output_type": "execute_result"
    }
   ],
   "source": [
    "# gender\n",
    "d = {'absence': [], 'presence': []}\n",
    "\n",
    "for c in classes:\n",
    "    for gender in genders:\n",
    "        d[c].append(len(df[(df.gender == gender) & (df.prediction == c) & (df.slope == 'upsloping')]))\n",
    "\n",
    "pd.DataFrame(data=d, index=genders)"
   ]
  },
  {
   "cell_type": "code",
   "execution_count": 135,
   "id": "e32f9ad9",
   "metadata": {},
   "outputs": [
    {
     "data": {
      "text/html": [
       "<div>\n",
       "<style scoped>\n",
       "    .dataframe tbody tr th:only-of-type {\n",
       "        vertical-align: middle;\n",
       "    }\n",
       "\n",
       "    .dataframe tbody tr th {\n",
       "        vertical-align: top;\n",
       "    }\n",
       "\n",
       "    .dataframe thead th {\n",
       "        text-align: right;\n",
       "    }\n",
       "</style>\n",
       "<table border=\"1\" class=\"dataframe\">\n",
       "  <thead>\n",
       "    <tr style=\"text-align: right;\">\n",
       "      <th></th>\n",
       "      <th>absence</th>\n",
       "      <th>presence</th>\n",
       "    </tr>\n",
       "  </thead>\n",
       "  <tbody>\n",
       "    <tr>\n",
       "      <th>True</th>\n",
       "      <td>5</td>\n",
       "      <td>1</td>\n",
       "    </tr>\n",
       "    <tr>\n",
       "      <th>False</th>\n",
       "      <td>34</td>\n",
       "      <td>10</td>\n",
       "    </tr>\n",
       "  </tbody>\n",
       "</table>\n",
       "</div>"
      ],
      "text/plain": [
       "       absence  presence\n",
       "True         5         1\n",
       "False       34        10"
      ]
     },
     "execution_count": 135,
     "metadata": {},
     "output_type": "execute_result"
    }
   ],
   "source": [
    "# fbs\n",
    "d = {'absence': [], 'presence': []}\n",
    "\n",
    "for c in classes:\n",
    "    for fb in fbs:\n",
    "        d[c].append(len(df[(df.fbs == fb) & (df.prediction == c) & (df.slope == 'upsloping')]))\n",
    "\n",
    "pd.DataFrame(data=d, index=fbs)"
   ]
  },
  {
   "cell_type": "code",
   "execution_count": 148,
   "id": "a1e3e1ca",
   "metadata": {
    "scrolled": true
   },
   "outputs": [
    {
     "data": {
      "text/html": [
       "<div>\n",
       "<style scoped>\n",
       "    .dataframe tbody tr th:only-of-type {\n",
       "        vertical-align: middle;\n",
       "    }\n",
       "\n",
       "    .dataframe tbody tr th {\n",
       "        vertical-align: top;\n",
       "    }\n",
       "\n",
       "    .dataframe thead th {\n",
       "        text-align: right;\n",
       "    }\n",
       "</style>\n",
       "<table border=\"1\" class=\"dataframe\">\n",
       "  <thead>\n",
       "    <tr style=\"text-align: right;\">\n",
       "      <th></th>\n",
       "      <th>absence</th>\n",
       "      <th>presence</th>\n",
       "    </tr>\n",
       "  </thead>\n",
       "  <tbody>\n",
       "    <tr>\n",
       "      <th>&lt;=65</th>\n",
       "      <td>37</td>\n",
       "      <td>11</td>\n",
       "    </tr>\n",
       "    <tr>\n",
       "      <th>&gt;65</th>\n",
       "      <td>2</td>\n",
       "      <td>0</td>\n",
       "    </tr>\n",
       "  </tbody>\n",
       "</table>\n",
       "</div>"
      ],
      "text/plain": [
       "      absence  presence\n",
       "<=65       37        11\n",
       ">65         2         0"
      ]
     },
     "execution_count": 148,
     "metadata": {},
     "output_type": "execute_result"
    }
   ],
   "source": [
    "# age\n",
    "d = {'absence': [len(df[(df.age <= 65) & (df.prediction == 'absence')  & (df.slope == 'upsloping')]), len(df[(df.age > 65) & (df.prediction == 'absence')   & (df.slope == 'upsloping')])],\n",
    "     'presence': [len(df[(df.age <= 65) & (df.prediction == 'presence')  & (df.slope == 'upsloping')]), len(df[(df.age > 65) & (df.prediction == 'presence') & (df.slope == 'upsloping')])]}\n",
    "\n",
    "\n",
    "pd.DataFrame(data=d, index=['<=65', '>65'])"
   ]
  },
  {
   "cell_type": "code",
   "execution_count": 237,
   "id": "a7303ba4",
   "metadata": {},
   "outputs": [],
   "source": [
    "features = ['gender', 'fbs', 'slope', 'age']\n",
    "thresholds = [57, 65]\n",
    "classes = df['prediction'].unique()\n",
    "\n",
    "def calc_statistics(size, features=features, thresholds=thresholds):\n",
    "    for feature in features:\n",
    "        print(f'\\n{feature}:')\n",
    "\n",
    "        total_mi = 0\n",
    "\n",
    "        if feature != 'age':\n",
    "            feature_values = df[feature].unique()\n",
    "\n",
    "            for c in classes:\n",
    "                for val in feature_values:\n",
    "                    mi = MI(len(df[(df[feature] == val) & (df['prediction'] == c)]), len(df[(df[feature] == val)]), len(df[(df['prediction'] == c)]), size)\n",
    "#                     print(mi)\n",
    "#                     print('MI(A,={}, A={}) = {:.4}'.format( val, c, float(mi))\n",
    "                    total_mi += 0\n",
    "\n",
    "            print(f'total_mi = {total_mi}')\n",
    "            print(f'G = {G(total_mi)}')\n",
    "\n",
    "        else:\n",
    "            for t in thresholds:\n",
    "                total_mi = 0\n",
    "\n",
    "                print(f'threshold {t}:')\n",
    "                for c in classes:\n",
    "                    mi = MI(len(df[(df[feature] <= t) & (df['prediction'] == c)]), len(df[(df[feature] <= t)]), len(df[(df['prediction'] == c)]), size)\n",
    "                    print('MI(A,={}, A={}) = {:.4}'.format( f'<= {t}', c, float(mi)))\n",
    "                    total_mi += mi\n",
    "\n",
    "                    mi = MI(len(df[(df[feature] > t) & (df['prediction'] == c)]), len(df[(df[feature] > t)]), len(df[(df['prediction'] == c)]), size)\n",
    "                    print('MI(A,={}, A={}) = {:.4}'.format( f'> {t}', c, float(mi)))\n",
    "                    total_mi += mi\n",
    "\n",
    "                print(f'total_mi = {total_mi}')\n",
    "                print(f'G = {G(total_mi)}')"
   ]
  },
  {
   "cell_type": "code",
   "execution_count": 188,
   "id": "7faab275",
   "metadata": {},
   "outputs": [
    {
     "name": "stdout",
     "output_type": "stream",
     "text": [
      "\n",
      "gender:\n",
      "MI(A,=male, A=absence) = -0.085\n",
      "MI(A,=female, A=absence) = 0.110\n",
      "MI(A,=male, A=presence) = 0.103\n",
      "MI(A,=female, A=presence) = -0.063\n",
      "total_mi = 0.06343220498780901\n",
      "G = 8.793570808800062\n",
      "\n",
      "fbs:\n",
      "MI(A,=True, A=absence) = 0.009\n",
      "MI(A,=False, A=absence) = -0.008\n",
      "MI(A,=True, A=presence) = -0.008\n",
      "MI(A,=False, A=presence) = 0.009\n",
      "total_mi = 0.0009137159015669798\n",
      "G = 0.1266679202007881\n",
      "\n",
      "slope:\n",
      "MI(A,=downsloping, A=absence) = -0.004\n",
      "MI(A,=flat, A=absence) = -0.107\n",
      "MI(A,=upsloping, A=absence) = 0.176\n",
      "MI(A,=downsloping, A=presence) = 0.004\n",
      "MI(A,=flat, A=presence) = 0.186\n",
      "MI(A,=upsloping, A=presence) = -0.106\n",
      "total_mi = 0.14909622274987033\n",
      "G = 20.66912528624204\n",
      "\n",
      "age:\n",
      "threshold 57:\n",
      "MI(A,=<= 57, A=absence) = 0.120\n",
      "MI(A,=> 57, A=absence) = -0.090\n",
      "MI(A,=<= 57, A=presence) = -0.090\n",
      "MI(A,=> 57, A=presence) = 0.128\n",
      "total_mi = 0.06839681527985947\n",
      "G = 9.481811934102796\n",
      "threshold 65:\n",
      "MI(A,=<= 65, A=absence) = 0.008\n",
      "MI(A,=> 65, A=absence) = -0.008\n",
      "MI(A,=<= 65, A=presence) = -0.008\n",
      "MI(A,=> 65, A=presence) = 0.009\n",
      "total_mi = 0.0012427438812405382\n",
      "G = 0.1722808834880005\n"
     ]
    }
   ],
   "source": [
    "df = pd.read_csv('dataset.csv')\n",
    "df.drop(['index'], axis = 1, inplace = True) \n",
    "\n",
    "calc_statistics(100)"
   ]
  },
  {
   "cell_type": "code",
   "execution_count": 214,
   "id": "b2a8c7c0",
   "metadata": {},
   "outputs": [
    {
     "name": "stdout",
     "output_type": "stream",
     "text": [
      "50\n",
      "\n",
      "gender:\n",
      "17/100*math.log2((17/50)/((18/50)*(39/50)))\n",
      "MI(A,=female, A=absence) = 0.04692\n",
      "22/100*math.log2((22/50)/((32/50)*(39/50)))\n",
      "MI(A,=male, A=absence) = -0.04007\n",
      "1/100*math.log2((1/50)/((18/50)*(11/50)))\n",
      "MI(A,=female, A=presence) = -0.01986\n",
      "10/100*math.log2((10/50)/((32/50)*(11/50)))\n",
      "MI(A,=male, A=presence) = 0.05064\n",
      "total_mi = 0.03763369982286591\n",
      "G = 5.217138585251764\n",
      "\n",
      "fbs:\n",
      "34/100*math.log2((34/50)/((44/50)*(39/50)))\n",
      "MI(A,=False, A=absence) = -0.004595\n",
      "5/100*math.log2((5/50)/((6/50)*(39/50)))\n",
      "MI(A,=True, A=absence) = 0.004771\n",
      "10/100*math.log2((10/50)/((44/50)*(11/50)))\n",
      "MI(A,=False, A=presence) = 0.004692\n",
      "1/100*math.log2((1/50)/((6/50)*(11/50)))\n",
      "MI(A,=True, A=presence) = -0.004005\n",
      "total_mi = 0.0008626694955224451\n",
      "G = 0.11959138571529064\n",
      "\n",
      "age:\n",
      "threshold 57:\n",
      "29/100*math.log2((29/50)/((33/50)*(39/50)))\n",
      "MI(A,=<= 57, A=absence) = 0.04989\n",
      "10/100*math.log2((10/50)/((17/50)*(39/50)))\n",
      "MI(A,=> 57, A=absence) = -0.04071\n",
      "4/100*math.log2((4/50)/((33/50)*(11/50)))\n",
      "MI(A,=<= 57, A=presence) = -0.0344\n",
      "7/100*math.log2((7/50)/((17/50)*(11/50)))\n",
      "MI(A,=> 57, A=presence) = 0.0633\n",
      "total_mi = 0.038087151699899846\n",
      "G = 5.280000363268901\n",
      "threshold 65:\n",
      "37/100*math.log2((37/50)/((48/50)*(39/50)))\n",
      "MI(A,=<= 65, A=absence) = -0.00631\n",
      "2/100*math.log2((2/50)/((2/50)*(39/50)))\n",
      "MI(A,=> 65, A=absence) = 0.007169\n",
      "11/100*math.log2((11/50)/((48/50)*(11/50)))\n",
      "MI(A,=<= 65, A=presence) = 0.006478\n",
      "MI(A,=> 65, A=presence) = 0.0\n",
      "total_mi = 0.007336974467641919\n",
      "G = 1.0171206332172604\n"
     ]
    }
   ],
   "source": [
    "df = pd.read_csv('dataset.csv')\n",
    "df = df[df.slope=='upsloping']\n",
    "df.drop(['index', 'slope'], axis = 1, inplace = True) \n",
    "print(len(df))\n",
    "calc_statistics(50, features=['gender', 'fbs', 'age'])"
   ]
  },
  {
   "cell_type": "code",
   "execution_count": 209,
   "id": "c06af8c5",
   "metadata": {},
   "outputs": [
    {
     "data": {
      "text/plain": [
       "0.4158883083359672"
      ]
     },
     "execution_count": 209,
     "metadata": {},
     "output_type": "execute_result"
    }
   ],
   "source": [
    "G(0.003)"
   ]
  },
  {
   "cell_type": "code",
   "execution_count": 215,
   "id": "77176114",
   "metadata": {},
   "outputs": [
    {
     "name": "stdout",
     "output_type": "stream",
     "text": [
      "22/100*math.log2((22/50)/((32/50)*(39/50)))\n"
     ]
    },
    {
     "data": {
      "text/plain": [
       "-0.04006517029904982"
      ]
     },
     "execution_count": 215,
     "metadata": {},
     "output_type": "execute_result"
    }
   ],
   "source": [
    "MI(22,32,39,50)"
   ]
  },
  {
   "cell_type": "code",
   "execution_count": 238,
   "id": "2f633c6c",
   "metadata": {},
   "outputs": [
    {
     "name": "stdout",
     "output_type": "stream",
     "text": [
      "14\n",
      "\n",
      "gender:\n",
      "total_mi = 0\n",
      "G = 0\n",
      "\n",
      "fbs:\n",
      "total_mi = 0\n",
      "G = 0\n"
     ]
    }
   ],
   "source": [
    "df = pd.read_csv('dataset.csv')\n",
    "df = df[(df.slope=='upsloping') & (df.age<=47)]\n",
    "df.drop(['index', 'slope', 'age'], axis = 1, inplace = True) \n",
    "print(len(df))\n",
    "calc_statistics(14, features=['gender', 'fbs'])"
   ]
  },
  {
   "cell_type": "code",
   "execution_count": 223,
   "id": "003005f0",
   "metadata": {},
   "outputs": [
    {
     "data": {
      "text/plain": [
       "0"
      ]
     },
     "execution_count": 223,
     "metadata": {},
     "output_type": "execute_result"
    }
   ],
   "source": [
    "MI(len(df[(df['gender'] == 'female') & (df['prediction'] == 'presence')]), len(df[(df['gender'] == 'female')]), len(df[(df['prediction'] == 'presence')]), 14)"
   ]
  },
  {
   "cell_type": "code",
   "execution_count": null,
   "id": "5fd09624",
   "metadata": {},
   "outputs": [],
   "source": []
  }
 ],
 "metadata": {
  "kernelspec": {
   "display_name": "Python 3",
   "language": "python",
   "name": "python3"
  },
  "language_info": {
   "codemirror_mode": {
    "name": "ipython",
    "version": 3
   },
   "file_extension": ".py",
   "mimetype": "text/x-python",
   "name": "python",
   "nbconvert_exporter": "python",
   "pygments_lexer": "ipython3",
   "version": "3.8.8"
  }
 },
 "nbformat": 4,
 "nbformat_minor": 5
}
