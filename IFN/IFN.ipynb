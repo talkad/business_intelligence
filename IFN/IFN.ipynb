{
 "cells": [
  {
   "cell_type": "markdown",
   "id": "c4e1fa08",
   "metadata": {},
   "source": [
    "### First Split"
   ]
  },
  {
   "cell_type": "code",
   "execution_count": 1,
   "id": "7f1376b7",
   "metadata": {},
   "outputs": [],
   "source": [
    "import pandas as pd\n"
   ]
  },
  {
   "cell_type": "code",
   "execution_count": 6,
   "id": "f9b973c1",
   "metadata": {},
   "outputs": [
    {
     "data": {
      "text/html": [
       "<div>\n",
       "<style scoped>\n",
       "    .dataframe tbody tr th:only-of-type {\n",
       "        vertical-align: middle;\n",
       "    }\n",
       "\n",
       "    .dataframe tbody tr th {\n",
       "        vertical-align: top;\n",
       "    }\n",
       "\n",
       "    .dataframe thead th {\n",
       "        text-align: right;\n",
       "    }\n",
       "</style>\n",
       "<table border=\"1\" class=\"dataframe\">\n",
       "  <thead>\n",
       "    <tr style=\"text-align: right;\">\n",
       "      <th></th>\n",
       "      <th>gender</th>\n",
       "      <th>fbs</th>\n",
       "      <th>slope</th>\n",
       "      <th>age</th>\n",
       "      <th>prediction</th>\n",
       "    </tr>\n",
       "  </thead>\n",
       "  <tbody>\n",
       "    <tr>\n",
       "      <th>0</th>\n",
       "      <td>male</td>\n",
       "      <td>True</td>\n",
       "      <td>downsloping</td>\n",
       "      <td>63</td>\n",
       "      <td>absence</td>\n",
       "    </tr>\n",
       "    <tr>\n",
       "      <th>1</th>\n",
       "      <td>male</td>\n",
       "      <td>False</td>\n",
       "      <td>flat</td>\n",
       "      <td>67</td>\n",
       "      <td>presence</td>\n",
       "    </tr>\n",
       "    <tr>\n",
       "      <th>2</th>\n",
       "      <td>male</td>\n",
       "      <td>False</td>\n",
       "      <td>flat</td>\n",
       "      <td>67</td>\n",
       "      <td>presence</td>\n",
       "    </tr>\n",
       "    <tr>\n",
       "      <th>3</th>\n",
       "      <td>male</td>\n",
       "      <td>False</td>\n",
       "      <td>downsloping</td>\n",
       "      <td>37</td>\n",
       "      <td>absence</td>\n",
       "    </tr>\n",
       "    <tr>\n",
       "      <th>4</th>\n",
       "      <td>female</td>\n",
       "      <td>False</td>\n",
       "      <td>upsloping</td>\n",
       "      <td>41</td>\n",
       "      <td>absence</td>\n",
       "    </tr>\n",
       "  </tbody>\n",
       "</table>\n",
       "</div>"
      ],
      "text/plain": [
       "   gender    fbs        slope  age prediction\n",
       "0    male   True  downsloping   63    absence\n",
       "1    male  False         flat   67   presence\n",
       "2    male  False         flat   67   presence\n",
       "3    male  False  downsloping   37    absence\n",
       "4  female  False    upsloping   41    absence"
      ]
     },
     "execution_count": 6,
     "metadata": {},
     "output_type": "execute_result"
    }
   ],
   "source": [
    "df = pd.read_csv('dataset.csv')\n",
    "df.drop(['index'], axis = 1, inplace = True) \n",
    "df.head()"
   ]
  },
  {
   "cell_type": "code",
   "execution_count": 8,
   "id": "d796de1e",
   "metadata": {},
   "outputs": [
    {
     "data": {
      "text/plain": [
       "male      71\n",
       "female    29\n",
       "Name: gender, dtype: int64"
      ]
     },
     "execution_count": 8,
     "metadata": {},
     "output_type": "execute_result"
    }
   ],
   "source": [
    "df['gender'].value_counts()"
   ]
  },
  {
   "cell_type": "code",
   "execution_count": 9,
   "id": "709f583e",
   "metadata": {},
   "outputs": [
    {
     "data": {
      "text/plain": [
       "False    87\n",
       "True     13\n",
       "Name: fbs, dtype: int64"
      ]
     },
     "execution_count": 9,
     "metadata": {},
     "output_type": "execute_result"
    }
   ],
   "source": [
    "df['fbs'].value_counts()"
   ]
  },
  {
   "cell_type": "code",
   "execution_count": 10,
   "id": "939ace8d",
   "metadata": {},
   "outputs": [
    {
     "data": {
      "text/plain": [
       "upsloping      50\n",
       "flat           39\n",
       "downsloping    11\n",
       "Name: slope, dtype: int64"
      ]
     },
     "execution_count": 10,
     "metadata": {},
     "output_type": "execute_result"
    }
   ],
   "source": [
    "df['slope'].value_counts()"
   ]
  },
  {
   "cell_type": "code",
   "execution_count": 19,
   "id": "599c1a56",
   "metadata": {},
   "outputs": [
    {
     "name": "stdout",
     "output_type": "stream",
     "text": [
      "(37, 71)\n"
     ]
    }
   ],
   "source": [
    "age = list(df['age'].sort_values())\n",
    "print(f'({age[0]}, {age[-1]})')"
   ]
  },
  {
   "cell_type": "code",
   "execution_count": 35,
   "id": "1bfa2bdb",
   "metadata": {},
   "outputs": [
    {
     "name": "stdout",
     "output_type": "stream",
     "text": [
      "total: 100\n",
      "34\n"
     ]
    },
    {
     "data": {
      "text/html": [
       "<div>\n",
       "<style scoped>\n",
       "    .dataframe tbody tr th:only-of-type {\n",
       "        vertical-align: middle;\n",
       "    }\n",
       "\n",
       "    .dataframe tbody tr th {\n",
       "        vertical-align: top;\n",
       "    }\n",
       "\n",
       "    .dataframe thead th {\n",
       "        text-align: right;\n",
       "    }\n",
       "</style>\n",
       "<table border=\"1\" class=\"dataframe\">\n",
       "  <thead>\n",
       "    <tr style=\"text-align: right;\">\n",
       "      <th></th>\n",
       "      <th>absence</th>\n",
       "      <th>presence</th>\n",
       "    </tr>\n",
       "  </thead>\n",
       "  <tbody>\n",
       "    <tr>\n",
       "      <th>male</th>\n",
       "      <td>34</td>\n",
       "      <td>37</td>\n",
       "    </tr>\n",
       "    <tr>\n",
       "      <th>female</th>\n",
       "      <td>23</td>\n",
       "      <td>6</td>\n",
       "    </tr>\n",
       "  </tbody>\n",
       "</table>\n",
       "</div>"
      ],
      "text/plain": [
       "        absence  presence\n",
       "male         34        37\n",
       "female       23         6"
      ]
     },
     "execution_count": 35,
     "metadata": {},
     "output_type": "execute_result"
    }
   ],
   "source": [
    "print(f'total: {len(df)}')\n",
    "\n",
    "classes = df['prediction'].unique()\n",
    "genders = df['gender'].unique()\n",
    "fbs = df['fbs'].unique()\n",
    "slopes = df['slope'].unique()\n",
    "\n",
    "# gender\n",
    "d = {'absence': [], 'presence': []}\n",
    "\n",
    "for c in classes:\n",
    "    for gender in genders:\n",
    "        d[c].append(len(df[(df.gender == gender) & (df.prediction == c)]))\n",
    "\n",
    "pd.DataFrame(data=d, index=genders)"
   ]
  },
  {
   "cell_type": "code",
   "execution_count": 37,
   "id": "4ddeef44",
   "metadata": {},
   "outputs": [
    {
     "data": {
      "text/html": [
       "<div>\n",
       "<style scoped>\n",
       "    .dataframe tbody tr th:only-of-type {\n",
       "        vertical-align: middle;\n",
       "    }\n",
       "\n",
       "    .dataframe tbody tr th {\n",
       "        vertical-align: top;\n",
       "    }\n",
       "\n",
       "    .dataframe thead th {\n",
       "        text-align: right;\n",
       "    }\n",
       "</style>\n",
       "<table border=\"1\" class=\"dataframe\">\n",
       "  <thead>\n",
       "    <tr style=\"text-align: right;\">\n",
       "      <th></th>\n",
       "      <th>absence</th>\n",
       "      <th>presence</th>\n",
       "    </tr>\n",
       "  </thead>\n",
       "  <tbody>\n",
       "    <tr>\n",
       "      <th>True</th>\n",
       "      <td>8</td>\n",
       "      <td>5</td>\n",
       "    </tr>\n",
       "    <tr>\n",
       "      <th>False</th>\n",
       "      <td>49</td>\n",
       "      <td>38</td>\n",
       "    </tr>\n",
       "  </tbody>\n",
       "</table>\n",
       "</div>"
      ],
      "text/plain": [
       "       absence  presence\n",
       "True         8         5\n",
       "False       49        38"
      ]
     },
     "execution_count": 37,
     "metadata": {},
     "output_type": "execute_result"
    }
   ],
   "source": [
    "# fbs\n",
    "d = {'absence': [], 'presence': []}\n",
    "\n",
    "for c in classes:\n",
    "    for fb in fbs:\n",
    "        d[c].append(len(df[(df.fbs == fb) & (df.prediction == c)]))\n",
    "\n",
    "pd.DataFrame(data=d, index=fbs)"
   ]
  },
  {
   "cell_type": "code",
   "execution_count": 38,
   "id": "81043a11",
   "metadata": {},
   "outputs": [
    {
     "data": {
      "text/html": [
       "<div>\n",
       "<style scoped>\n",
       "    .dataframe tbody tr th:only-of-type {\n",
       "        vertical-align: middle;\n",
       "    }\n",
       "\n",
       "    .dataframe tbody tr th {\n",
       "        vertical-align: top;\n",
       "    }\n",
       "\n",
       "    .dataframe thead th {\n",
       "        text-align: right;\n",
       "    }\n",
       "</style>\n",
       "<table border=\"1\" class=\"dataframe\">\n",
       "  <thead>\n",
       "    <tr style=\"text-align: right;\">\n",
       "      <th></th>\n",
       "      <th>absence</th>\n",
       "      <th>presence</th>\n",
       "    </tr>\n",
       "  </thead>\n",
       "  <tbody>\n",
       "    <tr>\n",
       "      <th>downsloping</th>\n",
       "      <td>6</td>\n",
       "      <td>5</td>\n",
       "    </tr>\n",
       "    <tr>\n",
       "      <th>flat</th>\n",
       "      <td>12</td>\n",
       "      <td>27</td>\n",
       "    </tr>\n",
       "    <tr>\n",
       "      <th>upsloping</th>\n",
       "      <td>39</td>\n",
       "      <td>11</td>\n",
       "    </tr>\n",
       "  </tbody>\n",
       "</table>\n",
       "</div>"
      ],
      "text/plain": [
       "             absence  presence\n",
       "downsloping        6         5\n",
       "flat              12        27\n",
       "upsloping         39        11"
      ]
     },
     "execution_count": 38,
     "metadata": {},
     "output_type": "execute_result"
    }
   ],
   "source": [
    "# slope\n",
    "d = {'absence': [], 'presence': []}\n",
    "\n",
    "for c in classes:\n",
    "    for slope in slopes:\n",
    "        d[c].append(len(df[(df.slope == slope) & (df.prediction == c)]))\n",
    "\n",
    "pd.DataFrame(data=d, index=slopes)"
   ]
  },
  {
   "cell_type": "code",
   "execution_count": 39,
   "id": "731a490f",
   "metadata": {},
   "outputs": [
    {
     "data": {
      "text/html": [
       "<div>\n",
       "<style scoped>\n",
       "    .dataframe tbody tr th:only-of-type {\n",
       "        vertical-align: middle;\n",
       "    }\n",
       "\n",
       "    .dataframe tbody tr th {\n",
       "        vertical-align: top;\n",
       "    }\n",
       "\n",
       "    .dataframe thead th {\n",
       "        text-align: right;\n",
       "    }\n",
       "</style>\n",
       "<table border=\"1\" class=\"dataframe\">\n",
       "  <thead>\n",
       "    <tr style=\"text-align: right;\">\n",
       "      <th></th>\n",
       "      <th>absence</th>\n",
       "      <th>presence</th>\n",
       "    </tr>\n",
       "  </thead>\n",
       "  <tbody>\n",
       "    <tr>\n",
       "      <th>&lt;=57</th>\n",
       "      <td>40</td>\n",
       "      <td>17</td>\n",
       "    </tr>\n",
       "    <tr>\n",
       "      <th>&gt;57</th>\n",
       "      <td>17</td>\n",
       "      <td>26</td>\n",
       "    </tr>\n",
       "  </tbody>\n",
       "</table>\n",
       "</div>"
      ],
      "text/plain": [
       "      absence  presence\n",
       "<=57       40        17\n",
       ">57        17        26"
      ]
     },
     "execution_count": 39,
     "metadata": {},
     "output_type": "execute_result"
    }
   ],
   "source": [
    "# age\n",
    "d = {'absence': [len(df[(df.age <= 57) & (df.prediction == 'absence')]), len(df[(df.age > 57) & (df.prediction == 'absence')])],\n",
    "     'presence': [len(df[(df.age <= 57) & (df.prediction == 'presence')]), len(df[(df.age > 57) & (df.prediction == 'presence')])]}\n",
    "\n",
    "\n",
    "pd.DataFrame(data=d, index=['<=57', '>57'])"
   ]
  },
  {
   "cell_type": "code",
   "execution_count": 40,
   "id": "20c4ec13",
   "metadata": {},
   "outputs": [
    {
     "data": {
      "text/html": [
       "<div>\n",
       "<style scoped>\n",
       "    .dataframe tbody tr th:only-of-type {\n",
       "        vertical-align: middle;\n",
       "    }\n",
       "\n",
       "    .dataframe tbody tr th {\n",
       "        vertical-align: top;\n",
       "    }\n",
       "\n",
       "    .dataframe thead th {\n",
       "        text-align: right;\n",
       "    }\n",
       "</style>\n",
       "<table border=\"1\" class=\"dataframe\">\n",
       "  <thead>\n",
       "    <tr style=\"text-align: right;\">\n",
       "      <th></th>\n",
       "      <th>absence</th>\n",
       "      <th>presence</th>\n",
       "    </tr>\n",
       "  </thead>\n",
       "  <tbody>\n",
       "    <tr>\n",
       "      <th>&lt;=65</th>\n",
       "      <td>53</td>\n",
       "      <td>39</td>\n",
       "    </tr>\n",
       "    <tr>\n",
       "      <th>&gt;65</th>\n",
       "      <td>4</td>\n",
       "      <td>4</td>\n",
       "    </tr>\n",
       "  </tbody>\n",
       "</table>\n",
       "</div>"
      ],
      "text/plain": [
       "      absence  presence\n",
       "<=65       53        39\n",
       ">65         4         4"
      ]
     },
     "execution_count": 40,
     "metadata": {},
     "output_type": "execute_result"
    }
   ],
   "source": [
    "# age\n",
    "d = {'absence': [len(df[(df.age <= 65) & (df.prediction == 'absence')]), len(df[(df.age > 65) & (df.prediction == 'absence')])],\n",
    "     'presence': [len(df[(df.age <= 65) & (df.prediction == 'presence')]), len(df[(df.age > 65) & (df.prediction == 'presence')])]}\n",
    "\n",
    "\n",
    "pd.DataFrame(data=d, index=['<=65', '>65'])"
   ]
  },
  {
   "cell_type": "code",
   "execution_count": 201,
   "id": "f39dbb9b",
   "metadata": {},
   "outputs": [],
   "source": [
    "import math\n",
    "\n",
    "def MI(x,y,z,total):\n",
    "    if x == 0:\n",
    "        return 0\n",
    "    \n",
    "    print(f'{x}/100*math.log2(({x}/{total})/(({y}/{total})*({z}/{total})))')\n",
    "    return x/100*math.log2((x/total)/((y/total)*(z/total)))\n",
    "\n",
    "def G(x):\n",
    "    if x == 0:\n",
    "        return 0\n",
    "    \n",
    "    return 2*math.log(2)*100*x"
   ]
  },
  {
   "cell_type": "code",
   "execution_count": 151,
   "id": "f9be1fe7",
   "metadata": {},
   "outputs": [
    {
     "data": {
      "text/plain": [
       "-0.09169925001442313"
      ]
     },
     "execution_count": 151,
     "metadata": {},
     "output_type": "execute_result"
    }
   ],
   "source": [
    "calc(2,2,48,11)"
   ]
  },
  {
   "cell_type": "code",
   "execution_count": 152,
   "id": "176d7826",
   "metadata": {},
   "outputs": [
    {
     "data": {
      "text/plain": [
       "-115.06243197295092"
      ]
     },
     "execution_count": 152,
     "metadata": {},
     "output_type": "execute_result"
    }
   ],
   "source": [
    "calc2(-0.83)"
   ]
  },
  {
   "cell_type": "code",
   "execution_count": 134,
   "id": "4ba5b326",
   "metadata": {},
   "outputs": [
    {
     "data": {
      "text/plain": [
       "39"
      ]
     },
     "execution_count": 134,
     "metadata": {},
     "output_type": "execute_result"
    }
   ],
   "source": [
    "len(df[df.slope == 'flat'])"
   ]
  },
  {
   "cell_type": "markdown",
   "id": "999760d3",
   "metadata": {},
   "source": [
    "## Second split"
   ]
  },
  {
   "cell_type": "code",
   "execution_count": 128,
   "id": "cb4d9780",
   "metadata": {},
   "outputs": [
    {
     "data": {
      "text/html": [
       "<div>\n",
       "<style scoped>\n",
       "    .dataframe tbody tr th:only-of-type {\n",
       "        vertical-align: middle;\n",
       "    }\n",
       "\n",
       "    .dataframe tbody tr th {\n",
       "        vertical-align: top;\n",
       "    }\n",
       "\n",
       "    .dataframe thead th {\n",
       "        text-align: right;\n",
       "    }\n",
       "</style>\n",
       "<table border=\"1\" class=\"dataframe\">\n",
       "  <thead>\n",
       "    <tr style=\"text-align: right;\">\n",
       "      <th></th>\n",
       "      <th>absence</th>\n",
       "      <th>presence</th>\n",
       "    </tr>\n",
       "  </thead>\n",
       "  <tbody>\n",
       "    <tr>\n",
       "      <th>male</th>\n",
       "      <td>22</td>\n",
       "      <td>10</td>\n",
       "    </tr>\n",
       "    <tr>\n",
       "      <th>female</th>\n",
       "      <td>17</td>\n",
       "      <td>1</td>\n",
       "    </tr>\n",
       "  </tbody>\n",
       "</table>\n",
       "</div>"
      ],
      "text/plain": [
       "        absence  presence\n",
       "male         22        10\n",
       "female       17         1"
      ]
     },
     "execution_count": 128,
     "metadata": {},
     "output_type": "execute_result"
    }
   ],
   "source": [
    "# gender\n",
    "d = {'absence': [], 'presence': []}\n",
    "\n",
    "for c in classes:\n",
    "    for gender in genders:\n",
    "        d[c].append(len(df[(df.gender == gender) & (df.prediction == c) & (df.slope == 'upsloping')]))\n",
    "\n",
    "pd.DataFrame(data=d, index=genders)"
   ]
  },
  {
   "cell_type": "code",
   "execution_count": 135,
   "id": "0206fe09",
   "metadata": {},
   "outputs": [
    {
     "data": {
      "text/html": [
       "<div>\n",
       "<style scoped>\n",
       "    .dataframe tbody tr th:only-of-type {\n",
       "        vertical-align: middle;\n",
       "    }\n",
       "\n",
       "    .dataframe tbody tr th {\n",
       "        vertical-align: top;\n",
       "    }\n",
       "\n",
       "    .dataframe thead th {\n",
       "        text-align: right;\n",
       "    }\n",
       "</style>\n",
       "<table border=\"1\" class=\"dataframe\">\n",
       "  <thead>\n",
       "    <tr style=\"text-align: right;\">\n",
       "      <th></th>\n",
       "      <th>absence</th>\n",
       "      <th>presence</th>\n",
       "    </tr>\n",
       "  </thead>\n",
       "  <tbody>\n",
       "    <tr>\n",
       "      <th>True</th>\n",
       "      <td>5</td>\n",
       "      <td>1</td>\n",
       "    </tr>\n",
       "    <tr>\n",
       "      <th>False</th>\n",
       "      <td>34</td>\n",
       "      <td>10</td>\n",
       "    </tr>\n",
       "  </tbody>\n",
       "</table>\n",
       "</div>"
      ],
      "text/plain": [
       "       absence  presence\n",
       "True         5         1\n",
       "False       34        10"
      ]
     },
     "execution_count": 135,
     "metadata": {},
     "output_type": "execute_result"
    }
   ],
   "source": [
    "# fbs\n",
    "d = {'absence': [], 'presence': []}\n",
    "\n",
    "for c in classes:\n",
    "    for fb in fbs:\n",
    "        d[c].append(len(df[(df.fbs == fb) & (df.prediction == c) & (df.slope == 'upsloping')]))\n",
    "\n",
    "pd.DataFrame(data=d, index=fbs)"
   ]
  },
  {
   "cell_type": "code",
   "execution_count": 148,
   "id": "baeaf688",
   "metadata": {
    "scrolled": true
   },
   "outputs": [
    {
     "data": {
      "text/html": [
       "<div>\n",
       "<style scoped>\n",
       "    .dataframe tbody tr th:only-of-type {\n",
       "        vertical-align: middle;\n",
       "    }\n",
       "\n",
       "    .dataframe tbody tr th {\n",
       "        vertical-align: top;\n",
       "    }\n",
       "\n",
       "    .dataframe thead th {\n",
       "        text-align: right;\n",
       "    }\n",
       "</style>\n",
       "<table border=\"1\" class=\"dataframe\">\n",
       "  <thead>\n",
       "    <tr style=\"text-align: right;\">\n",
       "      <th></th>\n",
       "      <th>absence</th>\n",
       "      <th>presence</th>\n",
       "    </tr>\n",
       "  </thead>\n",
       "  <tbody>\n",
       "    <tr>\n",
       "      <th>&lt;=65</th>\n",
       "      <td>37</td>\n",
       "      <td>11</td>\n",
       "    </tr>\n",
       "    <tr>\n",
       "      <th>&gt;65</th>\n",
       "      <td>2</td>\n",
       "      <td>0</td>\n",
       "    </tr>\n",
       "  </tbody>\n",
       "</table>\n",
       "</div>"
      ],
      "text/plain": [
       "      absence  presence\n",
       "<=65       37        11\n",
       ">65         2         0"
      ]
     },
     "execution_count": 148,
     "metadata": {},
     "output_type": "execute_result"
    }
   ],
   "source": [
    "# age\n",
    "d = {'absence': [len(df[(df.age <= 65) & (df.prediction == 'absence')  & (df.slope == 'upsloping')]), len(df[(df.age > 65) & (df.prediction == 'absence')   & (df.slope == 'upsloping')])],\n",
    "     'presence': [len(df[(df.age <= 65) & (df.prediction == 'presence')  & (df.slope == 'upsloping')]), len(df[(df.age > 65) & (df.prediction == 'presence') & (df.slope == 'upsloping')])]}\n",
    "\n",
    "\n",
    "pd.DataFrame(data=d, index=['<=65', '>65'])"
   ]
  },
  {
   "cell_type": "code",
   "execution_count": 242,
   "id": "ff6fb824",
   "metadata": {},
   "outputs": [],
   "source": [
    "features = ['gender', 'fbs', 'slope', 'age']\n",
    "thresholds = [57, 65]\n",
    "classes = df['prediction'].unique()\n",
    "\n",
    "def calc_statistics(size, features=features, thresholds=thresholds):\n",
    "    for feature in features:\n",
    "        print(f'\\n{feature}:')\n",
    "\n",
    "        total_mi = 0\n",
    "\n",
    "        if feature != 'age':\n",
    "            feature_values = df[feature].unique()\n",
    "\n",
    "            for c in classes:\n",
    "                for val in feature_values:\n",
    "                    mi = MI(len(df[(df[feature] == val) & (df['prediction'] == c)]), len(df[(df[feature] == val)]), len(df[(df['prediction'] == c)]), size)\n",
    "                    print('MI(A,={}, A={}) = {:.4}'.format( val, c, float(mi)))\n",
    "                    total_mi += mi\n",
    "\n",
    "            print(f'total_mi = {total_mi}')\n",
    "            print(f'G = {G(total_mi)}')\n",
    "\n",
    "        else:\n",
    "            for t in thresholds:\n",
    "                total_mi = 0\n",
    "\n",
    "                print(f'threshold {t}:')\n",
    "                for c in classes:\n",
    "                    mi = MI(len(df[(df[feature] <= t) & (df['prediction'] == c)]), len(df[(df[feature] <= t)]), len(df[(df['prediction'] == c)]), size)\n",
    "                    print('MI(A,={}, A={}) = {:.4}'.format( f'<= {t}', c, float(mi)))\n",
    "                    total_mi += mi\n",
    "\n",
    "                    mi = MI(len(df[(df[feature] > t) & (df['prediction'] == c)]), len(df[(df[feature] > t)]), len(df[(df['prediction'] == c)]), size)\n",
    "                    print('MI(A,={}, A={}) = {:.4}'.format( f'> {t}', c, float(mi)))\n",
    "                    total_mi += mi\n",
    "\n",
    "                print(f'total_mi = {total_mi}')\n",
    "                print(f'G = {G(total_mi)}')"
   ]
  },
  {
   "cell_type": "code",
   "execution_count": 188,
   "id": "aeeac223",
   "metadata": {},
   "outputs": [
    {
     "name": "stdout",
     "output_type": "stream",
     "text": [
      "\n",
      "gender:\n",
      "MI(A,=male, A=absence) = -0.085\n",
      "MI(A,=female, A=absence) = 0.110\n",
      "MI(A,=male, A=presence) = 0.103\n",
      "MI(A,=female, A=presence) = -0.063\n",
      "total_mi = 0.06343220498780901\n",
      "G = 8.793570808800062\n",
      "\n",
      "fbs:\n",
      "MI(A,=True, A=absence) = 0.009\n",
      "MI(A,=False, A=absence) = -0.008\n",
      "MI(A,=True, A=presence) = -0.008\n",
      "MI(A,=False, A=presence) = 0.009\n",
      "total_mi = 0.0009137159015669798\n",
      "G = 0.1266679202007881\n",
      "\n",
      "slope:\n",
      "MI(A,=downsloping, A=absence) = -0.004\n",
      "MI(A,=flat, A=absence) = -0.107\n",
      "MI(A,=upsloping, A=absence) = 0.176\n",
      "MI(A,=downsloping, A=presence) = 0.004\n",
      "MI(A,=flat, A=presence) = 0.186\n",
      "MI(A,=upsloping, A=presence) = -0.106\n",
      "total_mi = 0.14909622274987033\n",
      "G = 20.66912528624204\n",
      "\n",
      "age:\n",
      "threshold 57:\n",
      "MI(A,=<= 57, A=absence) = 0.120\n",
      "MI(A,=> 57, A=absence) = -0.090\n",
      "MI(A,=<= 57, A=presence) = -0.090\n",
      "MI(A,=> 57, A=presence) = 0.128\n",
      "total_mi = 0.06839681527985947\n",
      "G = 9.481811934102796\n",
      "threshold 65:\n",
      "MI(A,=<= 65, A=absence) = 0.008\n",
      "MI(A,=> 65, A=absence) = -0.008\n",
      "MI(A,=<= 65, A=presence) = -0.008\n",
      "MI(A,=> 65, A=presence) = 0.009\n",
      "total_mi = 0.0012427438812405382\n",
      "G = 0.1722808834880005\n"
     ]
    }
   ],
   "source": [
    "df = pd.read_csv('dataset.csv')\n",
    "df.drop(['index'], axis = 1, inplace = True) \n",
    "\n",
    "calc_statistics(100)"
   ]
  },
  {
   "cell_type": "code",
   "execution_count": 214,
   "id": "6c06f056",
   "metadata": {},
   "outputs": [
    {
     "name": "stdout",
     "output_type": "stream",
     "text": [
      "50\n",
      "\n",
      "gender:\n",
      "17/100*math.log2((17/50)/((18/50)*(39/50)))\n",
      "MI(A,=female, A=absence) = 0.04692\n",
      "22/100*math.log2((22/50)/((32/50)*(39/50)))\n",
      "MI(A,=male, A=absence) = -0.04007\n",
      "1/100*math.log2((1/50)/((18/50)*(11/50)))\n",
      "MI(A,=female, A=presence) = -0.01986\n",
      "10/100*math.log2((10/50)/((32/50)*(11/50)))\n",
      "MI(A,=male, A=presence) = 0.05064\n",
      "total_mi = 0.03763369982286591\n",
      "G = 5.217138585251764\n",
      "\n",
      "fbs:\n",
      "34/100*math.log2((34/50)/((44/50)*(39/50)))\n",
      "MI(A,=False, A=absence) = -0.004595\n",
      "5/100*math.log2((5/50)/((6/50)*(39/50)))\n",
      "MI(A,=True, A=absence) = 0.004771\n",
      "10/100*math.log2((10/50)/((44/50)*(11/50)))\n",
      "MI(A,=False, A=presence) = 0.004692\n",
      "1/100*math.log2((1/50)/((6/50)*(11/50)))\n",
      "MI(A,=True, A=presence) = -0.004005\n",
      "total_mi = 0.0008626694955224451\n",
      "G = 0.11959138571529064\n",
      "\n",
      "age:\n",
      "threshold 57:\n",
      "29/100*math.log2((29/50)/((33/50)*(39/50)))\n",
      "MI(A,=<= 57, A=absence) = 0.04989\n",
      "10/100*math.log2((10/50)/((17/50)*(39/50)))\n",
      "MI(A,=> 57, A=absence) = -0.04071\n",
      "4/100*math.log2((4/50)/((33/50)*(11/50)))\n",
      "MI(A,=<= 57, A=presence) = -0.0344\n",
      "7/100*math.log2((7/50)/((17/50)*(11/50)))\n",
      "MI(A,=> 57, A=presence) = 0.0633\n",
      "total_mi = 0.038087151699899846\n",
      "G = 5.280000363268901\n",
      "threshold 65:\n",
      "37/100*math.log2((37/50)/((48/50)*(39/50)))\n",
      "MI(A,=<= 65, A=absence) = -0.00631\n",
      "2/100*math.log2((2/50)/((2/50)*(39/50)))\n",
      "MI(A,=> 65, A=absence) = 0.007169\n",
      "11/100*math.log2((11/50)/((48/50)*(11/50)))\n",
      "MI(A,=<= 65, A=presence) = 0.006478\n",
      "MI(A,=> 65, A=presence) = 0.0\n",
      "total_mi = 0.007336974467641919\n",
      "G = 1.0171206332172604\n"
     ]
    }
   ],
   "source": [
    "df = pd.read_csv('dataset.csv')\n",
    "df = df[df.slope=='upsloping']\n",
    "df.drop(['index', 'slope'], axis = 1, inplace = True) \n",
    "print(len(df))\n",
    "calc_statistics(50, features=['gender', 'fbs', 'age'])"
   ]
  },
  {
   "cell_type": "code",
   "execution_count": 209,
   "id": "e81a3ee5",
   "metadata": {},
   "outputs": [
    {
     "data": {
      "text/plain": [
       "0.4158883083359672"
      ]
     },
     "execution_count": 209,
     "metadata": {},
     "output_type": "execute_result"
    }
   ],
   "source": [
    "G(0.003)"
   ]
  },
  {
   "cell_type": "code",
   "execution_count": 215,
   "id": "173b043c",
   "metadata": {},
   "outputs": [
    {
     "name": "stdout",
     "output_type": "stream",
     "text": [
      "22/100*math.log2((22/50)/((32/50)*(39/50)))\n"
     ]
    },
    {
     "data": {
      "text/plain": [
       "-0.04006517029904982"
      ]
     },
     "execution_count": 215,
     "metadata": {},
     "output_type": "execute_result"
    }
   ],
   "source": [
    "MI(22,32,39,50)"
   ]
  },
  {
   "cell_type": "code",
   "execution_count": 250,
   "id": "1a319be4",
   "metadata": {},
   "outputs": [
    {
     "data": {
      "text/html": [
       "<div>\n",
       "<style scoped>\n",
       "    .dataframe tbody tr th:only-of-type {\n",
       "        vertical-align: middle;\n",
       "    }\n",
       "\n",
       "    .dataframe tbody tr th {\n",
       "        vertical-align: top;\n",
       "    }\n",
       "\n",
       "    .dataframe thead th {\n",
       "        text-align: right;\n",
       "    }\n",
       "</style>\n",
       "<table border=\"1\" class=\"dataframe\">\n",
       "  <thead>\n",
       "    <tr style=\"text-align: right;\">\n",
       "      <th></th>\n",
       "      <th>absence</th>\n",
       "      <th>presence</th>\n",
       "    </tr>\n",
       "  </thead>\n",
       "  <tbody>\n",
       "    <tr>\n",
       "      <th>male</th>\n",
       "      <td>2</td>\n",
       "      <td>6</td>\n",
       "    </tr>\n",
       "    <tr>\n",
       "      <th>female</th>\n",
       "      <td>8</td>\n",
       "      <td>1</td>\n",
       "    </tr>\n",
       "  </tbody>\n",
       "</table>\n",
       "</div>"
      ],
      "text/plain": [
       "        absence  presence\n",
       "male          2         6\n",
       "female        8         1"
      ]
     },
     "execution_count": 250,
     "metadata": {},
     "output_type": "execute_result"
    }
   ],
   "source": [
    "# gender\n",
    "df = pd.read_csv('dataset.csv')\n",
    "d = {'absence': [], 'presence': []}\n",
    "\n",
    "\n",
    "for c in classes:\n",
    "    for gender in genders:\n",
    "        d[c].append(len(df[(df.gender == gender) & (df.prediction == c) & (df.slope == 'upsloping') & (df.age > 57)]))\n",
    "\n",
    "pd.DataFrame(data=d, index=genders)"
   ]
  },
  {
   "cell_type": "code",
   "execution_count": 256,
   "id": "41445482",
   "metadata": {},
   "outputs": [
    {
     "data": {
      "text/html": [
       "<div>\n",
       "<style scoped>\n",
       "    .dataframe tbody tr th:only-of-type {\n",
       "        vertical-align: middle;\n",
       "    }\n",
       "\n",
       "    .dataframe tbody tr th {\n",
       "        vertical-align: top;\n",
       "    }\n",
       "\n",
       "    .dataframe thead th {\n",
       "        text-align: right;\n",
       "    }\n",
       "</style>\n",
       "<table border=\"1\" class=\"dataframe\">\n",
       "  <thead>\n",
       "    <tr style=\"text-align: right;\">\n",
       "      <th></th>\n",
       "      <th>absence</th>\n",
       "      <th>presence</th>\n",
       "    </tr>\n",
       "  </thead>\n",
       "  <tbody>\n",
       "    <tr>\n",
       "      <th>True</th>\n",
       "      <td>3</td>\n",
       "      <td>1</td>\n",
       "    </tr>\n",
       "    <tr>\n",
       "      <th>False</th>\n",
       "      <td>7</td>\n",
       "      <td>6</td>\n",
       "    </tr>\n",
       "  </tbody>\n",
       "</table>\n",
       "</div>"
      ],
      "text/plain": [
       "       absence  presence\n",
       "True         3         1\n",
       "False        7         6"
      ]
     },
     "execution_count": 256,
     "metadata": {},
     "output_type": "execute_result"
    }
   ],
   "source": [
    "# fbs\n",
    "d = {'absence': [], 'presence': []}\n",
    "df = pd.read_csv('dataset.csv')\n",
    "\n",
    "for c in classes:\n",
    "    for fb in fbs:\n",
    "        d[c].append(len(df[(df.fbs == fb) & (df.prediction == c) & (df.slope == 'upsloping')  & (df.age > 57)]))\n",
    "\n",
    "pd.DataFrame(data=d, index=fbs)"
   ]
  },
  {
   "cell_type": "code",
   "execution_count": 252,
   "id": "9155150b",
   "metadata": {},
   "outputs": [
    {
     "name": "stdout",
     "output_type": "stream",
     "text": [
      "17\n",
      "\n",
      "gender:\n",
      "8/100*math.log2((8/17)/((9/17)*(10/17)))\n",
      "MI(A,=female, A=absence) = 0.04765\n",
      "2/100*math.log2((2/17)/((8/17)*(10/17)))\n",
      "MI(A,=male, A=absence) = -0.02469\n",
      "1/100*math.log2((1/17)/((9/17)*(7/17)))\n",
      "MI(A,=female, A=presence) = -0.0189\n",
      "6/100*math.log2((6/17)/((8/17)*(7/17)))\n",
      "MI(A,=male, A=presence) = 0.0519\n",
      "total_mi = 0.05596552889325043\n",
      "G = 7.758469712180539\n",
      "\n",
      "fbs:\n",
      "3/100*math.log2((3/17)/((4/17)*(10/17)))\n",
      "MI(A,=True, A=absence) = 0.01051\n",
      "7/100*math.log2((7/17)/((13/17)*(10/17)))\n",
      "MI(A,=False, A=absence) = -0.008929\n",
      "1/100*math.log2((1/17)/((4/17)*(7/17)))\n",
      "MI(A,=True, A=presence) = -0.007199\n",
      "6/100*math.log2((6/17)/((13/17)*(7/17)))\n",
      "MI(A,=False, A=presence) = 0.009878\n",
      "total_mi = 0.004265335230383547\n",
      "G = 0.5913010178166721\n"
     ]
    }
   ],
   "source": [
    "df = pd.read_csv('dataset.csv')\n",
    "df = df[(df.slope=='upsloping') & (df.age>57)]\n",
    "df.drop(['index', 'slope', 'age'], axis = 1, inplace = True) \n",
    "print(len(df))\n",
    "calc_statistics(17, features=['gender', 'fbs'])"
   ]
  },
  {
   "cell_type": "code",
   "execution_count": 223,
   "id": "9bc97e90",
   "metadata": {},
   "outputs": [
    {
     "data": {
      "text/plain": [
       "0"
      ]
     },
     "execution_count": 223,
     "metadata": {},
     "output_type": "execute_result"
    }
   ],
   "source": [
    "MI(len(df[(df['gender'] == 'female') & (df['prediction'] == 'presence')]), len(df[(df['gender'] == 'female')]), len(df[(df['prediction'] == 'presence')]), 14)"
   ]
  },
  {
   "cell_type": "code",
   "execution_count": 276,
   "id": "e9c5e1e1",
   "metadata": {},
   "outputs": [
    {
     "name": "stdout",
     "output_type": "stream",
     "text": [
      "absence class 57\n",
      "presence class 43\n",
      "flat 39\n",
      "flat and absence 12\n",
      "weight: -0.057941793968215846\n"
     ]
    }
   ],
   "source": [
    "df = pd.read_csv('dataset.csv')\n",
    "df.drop(['index'], axis = 1, inplace = True) \n",
    "print(f\"absence class {len(df[(df.prediction == 'absence')])}\")\n",
    "print(f\"presence class {len(df[(df.prediction == 'presence')])}\")\n",
    "\n",
    "print(f\"flat {len(df[(df.slope == 'flat')])}\")\n",
    "print(f\"flat and absence {len(df[(df.prediction == 'absence') & (df.slope == 'flat')])}\")\n",
    "\n",
    "x = 12 / 100\n",
    "y = 12 / 39\n",
    "z = 43/ 100\n",
    "\n",
    "print(f'weight: {x*math.log2(y/z)}')"
   ]
  },
  {
   "cell_type": "code",
   "execution_count": 286,
   "id": "1e066f0f",
   "metadata": {},
   "outputs": [
    {
     "name": "stdout",
     "output_type": "stream",
     "text": [
      "absence class 57\n",
      "presence class 43\n",
      "<=57 and upsloping 33\n",
      "upsloping and <=57 and presence 4\n",
      "weight: -0.07307210737143308\n"
     ]
    }
   ],
   "source": [
    "df = pd.read_csv('dataset.csv')\n",
    "df.drop(['index'], axis = 1, inplace = True) \n",
    "print(f\"absence class {len(df[(df.prediction == 'absence')])}\")\n",
    "print(f\"presence class {len(df[(df.prediction == 'presence')])}\")\n",
    "\n",
    "print(f\"<=57 and upsloping {len(df[(df.age <= 57) & (df.slope == 'upsloping')])}\")\n",
    "print(f\"upsloping and <=57 and presence {len(df[(df.prediction == 'presence') & (df.slope == 'upsloping') & (df.age <= 57)])}\")\n",
    "\n",
    "x = 4 / 100\n",
    "y = 4 / 33\n",
    "z = 43/ 100\n",
    "\n",
    "print(f'weight: {x*math.log2(y/z)}')"
   ]
  },
  {
   "cell_type": "code",
   "execution_count": 287,
   "id": "bb56a900",
   "metadata": {},
   "outputs": [
    {
     "name": "stdout",
     "output_type": "stream",
     "text": [
      "<=57 57\n",
      "upsloping and <=57 and absence 29\n",
      "weight: 0.1811203848999395\n"
     ]
    }
   ],
   "source": [
    "print(f\"<=57 {len(df[(df.age <= 57)])}\")\n",
    "print(f\"upsloping and <=57 and absence {len(df[(df.prediction == 'absence') & (df.slope == 'upsloping') & (df.age <= 57)])}\")\n",
    "\n",
    "x = 29 / 100\n",
    "y = 29 / 33\n",
    "z = 57/ 100\n",
    "\n",
    "print(f'weight: {x*math.log2(y/z)}')"
   ]
  },
  {
   "cell_type": "code",
   "execution_count": null,
   "id": "2085067a",
   "metadata": {},
   "outputs": [],
   "source": []
  },
  {
   "cell_type": "code",
   "execution_count": 299,
   "id": "cf69bf7d",
   "metadata": {},
   "outputs": [
    {
     "name": "stdout",
     "output_type": "stream",
     "text": [
      "absence class 57\n",
      "presence class 43\n",
      ">57 and upsloping and female 9\n",
      "upsloping and >57 and presence and female 1\n",
      "weight: -0.019523335663696857\n"
     ]
    }
   ],
   "source": [
    "df = pd.read_csv('dataset.csv')\n",
    "df.drop(['index'], axis = 1, inplace = True) \n",
    "print(f\"absence class {len(df[(df.prediction == 'absence')])}\")\n",
    "print(f\"presence class {len(df[(df.prediction == 'presence')])}\")\n",
    "\n",
    "print(f\">57 and upsloping and female {len(df[(df.age > 57) & (df.slope == 'upsloping') & (df.gender == 'female')])}\")\n",
    "print(f\"upsloping and >57 and presence and female {len(df[(df.prediction == 'presence') & (df.gender == 'female') & (df.slope == 'upsloping') & (df.age > 57)])}\")\n",
    "\n",
    "x = 1 / 100\n",
    "y = 1 / 9\n",
    "z = 43/ 100\n",
    "\n",
    "print(f'weight: {x*math.log2(y/z)}')"
   ]
  },
  {
   "cell_type": "code",
   "execution_count": null,
   "id": "4f7cab62",
   "metadata": {},
   "outputs": [],
   "source": [
    "weight: 0.051283293933413666"
   ]
  }
 ],
 "metadata": {
  "kernelspec": {
   "display_name": "Python 3",
   "language": "python",
   "name": "python3"
  },
  "language_info": {
   "codemirror_mode": {
    "name": "ipython",
    "version": 3
   },
   "file_extension": ".py",
   "mimetype": "text/x-python",
   "name": "python",
   "nbconvert_exporter": "python",
   "pygments_lexer": "ipython3",
   "version": "3.8.8"
  }
 },
 "nbformat": 4,
 "nbformat_minor": 5
}
